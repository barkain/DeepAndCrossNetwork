{
 "cells": [
  {
   "cell_type": "markdown",
   "metadata": {},
   "source": [
    "# Deep and Cross Network\n",
    "## Pytorch implementation based on the paper arxiv.org/abs/1708.05123"
   ]
  },
  {
   "cell_type": "code",
   "execution_count": 1,
   "metadata": {},
   "outputs": [],
   "source": [
    "import yaml\n",
    "import torch\n",
    "import torch.nn as nn\n",
    "import torch.nn.functional as F\n",
    "import pandas as pd\n",
    "import torch.optim as optim\n",
    "from torch.distributions import beta\n",
    "import torch.onnx\n",
    "import numpy as np\n",
    "from sklearn.metrics import roc_auc_score\n",
    "import os\n",
    "import time\n",
    "import sys\n",
    "from torchvision.transforms import *\n",
    "from tqdm import tqdm, tqdm_notebook, tnrange\n",
    "import matplotlib.pyplot as plt\n",
    "\n",
    "from torch_summary import summary\n",
    "SEED = 123\n",
    "np.random.seed(SEED)\n",
    "torch.manual_seed(SEED)\n",
    "\n",
    "%matplotlib inline"
   ]
  },
  {
   "cell_type": "code",
   "execution_count": 2,
   "metadata": {},
   "outputs": [],
   "source": [
    "torch.cuda.is_available()\n",
    "device = torch.device(\"cuda:0\" if torch.cuda.is_available() else \"cpu\")"
   ]
  },
  {
   "cell_type": "code",
   "execution_count": 3,
   "metadata": {},
   "outputs": [],
   "source": [
    "with open(\"config.yml\", 'r') as ymlfile:\n",
    "    cfg = yaml.load(ymlfile)\n",
    "    filename = cfg['filename']\n",
    "    x_col_cat = cfg['features']['categorical']\n",
    "    x_col_bin = cfg['features']['binary']\n",
    "    x_col_num = cfg['features']['numerical']\n",
    "    x_col_cyc = cfg['features']['cyclical']\n",
    "    y_col = cfg['features']['label']\n",
    "    w_col = cfg['features']['weight']"
   ]
  },
  {
   "cell_type": "code",
   "execution_count": 4,
   "metadata": {},
   "outputs": [
    {
     "name": "stdout",
     "output_type": "stream",
     "text": [
      "dataset size: (602733, 30)\n",
      "ctr = 0.00952\n"
     ]
    }
   ],
   "source": [
    "nrows=1e7\n",
    "df = pd.read_csv(filename, nrows=nrows)\n",
    "print(\"dataset size: %s\"%str(df.shape))\n",
    "print(\"ctr = %.5f\"%((df[y_col]*df[w_col]).sum()*1./df[w_col].sum()))"
   ]
  },
  {
   "cell_type": "code",
   "execution_count": 5,
   "metadata": {},
   "outputs": [],
   "source": [
    "def merge_columns(arr):\n",
    "    arr = arr.astype(str)\n",
    "    vals = (arr[:,0].astype(object)+'_'+arr[:,1].astype(object))\n",
    "    for i in range(2, arr.shape[1]):\n",
    "        vals = (vals+'_'+arr[:,i].astype(object))\n",
    "    return vals"
   ]
  },
  {
   "cell_type": "code",
   "execution_count": 6,
   "metadata": {},
   "outputs": [
    {
     "name": "stdout",
     "output_type": "stream",
     "text": [
      "['geo_state', 'geo_country', 'geo_city', 'zip_code', 'category_1', 'domain', 'app_bundle', 'publisher_id', 'device_type', 'device_os', 'device_os_version', 'device_browser', 'device_browser_version', 'carrier', 'language', 'exchange_id', 'banner_type', 'account_campaign', 'account_banner', 'account_advertiser', 'account_offer']\n"
     ]
    }
   ],
   "source": [
    "cat_features = []\n",
    "for f in x_col_cat:\n",
    "    if(isinstance(f, str)==False):\n",
    "        df[list(f.values())[0]] = df[list(f.values())[0]].fillna('unknown')\n",
    "        df[list(f.keys())[0]] = merge_columns(df[list(f.values())[0]].values)\n",
    "        cat_features.append(list(f.keys())[0])\n",
    "    else:\n",
    "        df[f] = df[f].fillna('unknown')\n",
    "        cat_features.append(f)\n",
    "print(cat_features)"
   ]
  },
  {
   "cell_type": "code",
   "execution_count": 7,
   "metadata": {},
   "outputs": [
    {
     "name": "stdout",
     "output_type": "stream",
     "text": [
      "is_interstitial {'No': 0, 'Yes': 1}\n",
      "is_mobile_web_optimized {'No': 0, 'Yes': 1}\n",
      "is_app {'Yes': 0, 'No': 1}\n",
      "['is_interstitial', 'is_mobile_web_optimized', 'is_app']\n"
     ]
    }
   ],
   "source": [
    "binary_features = []\n",
    "for f in x_col_bin:\n",
    "    uniques = df[f].unique()\n",
    "    d = {uniques[0]:0, uniques[1]:1}\n",
    "    df[f] = df[f].map(d)\n",
    "    binary_features.append(f)\n",
    "    print(f, d)\n",
    "print(binary_features)"
   ]
  },
  {
   "cell_type": "code",
   "execution_count": 8,
   "metadata": {},
   "outputs": [
    {
     "name": "stdout",
     "output_type": "stream",
     "text": [
      "user_day_of_week 7\n",
      "user_hour 24\n",
      "['user_day_of_week_sin', 'user_day_of_week_cos', 'user_hour_sin', 'user_hour_cos']\n"
     ]
    }
   ],
   "source": [
    "cyc_features = []\n",
    "for f in x_col_cyc:\n",
    "    nuniques = df[f].nunique()\n",
    "    df[f+'_sin'] = np.sin(df[f]*(2.*np.pi/nuniques))\n",
    "    df[f+'_cos'] = np.cos(df[f]*(2.*np.pi/nuniques))\n",
    "    cyc_features.append(f+'_sin')\n",
    "    cyc_features.append(f+'_cos')\n",
    "    print(f, nuniques)\n",
    "print(cyc_features)"
   ]
  },
  {
   "cell_type": "markdown",
   "metadata": {},
   "source": [
    "### Encoding"
   ]
  },
  {
   "cell_type": "code",
   "execution_count": 9,
   "metadata": {},
   "outputs": [],
   "source": [
    "def binary_encode(s, modulo, required_bits=8):\n",
    "    num = hash(s) % modulo\n",
    "    return np.array(list(np.binary_repr(num).zfill(required_bits))).astype(np.int8)\n",
    "\n",
    "def hashing_trick(s, modulo):\n",
    "    num = hash(s) % modulo\n",
    "    arr = np.zeros((modulo)).astype(np.int8)\n",
    "    arr[num] = 1\n",
    "    return arr\n",
    "\n",
    "def get_sparse_index(s, modulo):\n",
    "    return hash(s) % modulo"
   ]
  },
  {
   "cell_type": "markdown",
   "metadata": {},
   "source": [
    "#### Combine columns"
   ]
  },
  {
   "cell_type": "code",
   "execution_count": 10,
   "metadata": {},
   "outputs": [],
   "source": [
    "df = df[cat_features + binary_features + cyc_features + [y_col] + [w_col]]"
   ]
  },
  {
   "cell_type": "markdown",
   "metadata": {},
   "source": [
    "Here we represent categorical features as sparse index. In production system this encoding can be done by maintaining a map of unique values per feature. A Bloom filter can be used to track each value on the fly by checking whether a specific value exists and update the counters accordingly"
   ]
  },
  {
   "cell_type": "code",
   "execution_count": 11,
   "metadata": {},
   "outputs": [
    {
     "name": "stderr",
     "output_type": "stream",
     "text": [
      "100%|██████████| 21/21 [00:03<00:00,  6.45it/s]"
     ]
    },
    {
     "name": "stdout",
     "output_type": "stream",
     "text": [
      "geo_state 642\n",
      "geo_country 13\n",
      "geo_city 5412\n",
      "zip_code 9629\n",
      "category_1 58\n",
      "domain 4990\n",
      "app_bundle 3570\n",
      "publisher_id 2614\n",
      "device_type 6\n",
      "device_os 11\n",
      "device_os_version 140\n",
      "device_browser 27\n",
      "device_browser_version 893\n",
      "carrier 664\n",
      "language 78\n",
      "exchange_id 7\n",
      "banner_type 3\n",
      "account_campaign 20\n",
      "account_banner 60\n",
      "account_advertiser 8\n",
      "account_offer 11\n"
     ]
    },
    {
     "name": "stderr",
     "output_type": "stream",
     "text": [
      "\n"
     ]
    }
   ],
   "source": [
    "cat_cols = {}\n",
    "column_instance_dict = {}\n",
    "modulos = []\n",
    "for col in tqdm(cat_features):\n",
    "    modulo = df[col].nunique()\n",
    "    cat_cols[col] = modulo\n",
    "    modulos.append(modulo)\n",
    "    column_instance_dict[col] = dict(zip(df[col].unique(), range(len(df[col].unique()))))\n",
    "    df[col] = df[col].map(column_instance_dict[col])\n",
    "for c in cat_features:\n",
    "    print(c, cat_cols[c])"
   ]
  },
  {
   "cell_type": "code",
   "execution_count": 12,
   "metadata": {},
   "outputs": [
    {
     "data": {
      "text/plain": [
       "{'geo_state': (642, 10),\n",
       " 'geo_country': (13, 5),\n",
       " 'geo_city': (5412, 10),\n",
       " 'zip_code': (9629, 10),\n",
       " 'category_1': (58, 5),\n",
       " 'domain': (4990, 10),\n",
       " 'app_bundle': (3570, 10),\n",
       " 'publisher_id': (2614, 10),\n",
       " 'device_type': (6, 3),\n",
       " 'device_os': (11, 5),\n",
       " 'device_os_version': (140, 10),\n",
       " 'device_browser': (27, 5),\n",
       " 'device_browser_version': (893, 10),\n",
       " 'carrier': (664, 10),\n",
       " 'language': (78, 5),\n",
       " 'exchange_id': (7, 3),\n",
       " 'banner_type': (3, 3),\n",
       " 'account_campaign': (20, 5),\n",
       " 'account_banner': (60, 5),\n",
       " 'account_advertiser': (8, 3),\n",
       " 'account_offer': (11, 5)}"
      ]
     },
     "execution_count": 12,
     "metadata": {},
     "output_type": "execute_result"
    }
   ],
   "source": [
    "embed_dict = {}\n",
    "for c in cat_cols:\n",
    "    if(cat_cols[c]<=10):\n",
    "        embed_dict[c] = (cat_cols[c], 3)\n",
    "    elif(cat_cols[c]<=100):\n",
    "        embed_dict[c] = (cat_cols[c], 5)\n",
    "    else:\n",
    "        embed_dict[c] = (cat_cols[c], 10)\n",
    "embed_dict"
   ]
  },
  {
   "cell_type": "code",
   "execution_count": 13,
   "metadata": {},
   "outputs": [
    {
     "name": "stdout",
     "output_type": "stream",
     "text": [
      "number of x columns: 28\n"
     ]
    }
   ],
   "source": [
    "x_cols = [c for c in df.columns if (c != 'clicks') and (c != 'impressions')]\n",
    "print(\"number of x columns: %d\"%(len(x_cols)))"
   ]
  },
  {
   "cell_type": "code",
   "execution_count": 14,
   "metadata": {},
   "outputs": [
    {
     "name": "stdout",
     "output_type": "stream",
     "text": [
      "x_dense: (602733, 7) x_sparse: (602733, 21) y: (602733,) w: (602733,)\n"
     ]
    }
   ],
   "source": [
    "x_sparse = df[x_cols[:len(cat_features)]].values\n",
    "x_dense = df[x_cols[len(cat_features):]].values\n",
    "x = np.concatenate([x_sparse, x_dense], axis=1)\n",
    "y, w = np.array(df[y_col]), np.array(df[w_col])\n",
    "print(\"x_dense: %s x_sparse: %s y: %s w: %s\"%(x_dense.shape, x_sparse.shape, y.shape, w.shape))\n",
    "del df"
   ]
  },
  {
   "cell_type": "markdown",
   "metadata": {},
   "source": [
    "### Prepare data for pytorch and split"
   ]
  },
  {
   "cell_type": "code",
   "execution_count": 15,
   "metadata": {},
   "outputs": [],
   "source": [
    "x = torch.FloatTensor(x).to(device)\n",
    "y = torch.FloatTensor(y).to(device)\n",
    "w = torch.FloatTensor(w).to(device)"
   ]
  },
  {
   "cell_type": "code",
   "execution_count": 16,
   "metadata": {},
   "outputs": [
    {
     "name": "stdout",
     "output_type": "stream",
     "text": [
      "num obs train 361639\n",
      "num obs val 120547\n",
      "num obs test 120547\n"
     ]
    }
   ],
   "source": [
    "n, m = x.shape\n",
    "randvec = torch.randperm(n)\n",
    "x_train, x_val = torch.split(x[randvec],(n*3)//5, 0)\n",
    "y_train, y_val = torch.split(y[randvec],(n*3)//5, 0)\n",
    "w_train, w_val = torch.split(w[randvec],(n*3)//5, 0)\n",
    "\n",
    "n_val = x_val.shape[0]\n",
    "randvec_val = torch.randperm(n_val)\n",
    "x_val, x_test = torch.split(x_val[randvec_val],n_val//2, 0)\n",
    "y_val, y_test = torch.split(y_val[randvec_val],n_val//2, 0)\n",
    "w_val, w_test = torch.split(w_val[randvec_val],n_val//2, 0)\n",
    "\n",
    "print(\"num obs train %d\\nnum obs val %d\\nnum obs test %d\"%(x_train.shape[0], x_val.shape[0], x_test.shape[0]))"
   ]
  },
  {
   "cell_type": "markdown",
   "metadata": {},
   "source": [
    "## Build Model"
   ]
  },
  {
   "cell_type": "markdown",
   "metadata": {},
   "source": [
    "### Define Hyperparameters"
   ]
  },
  {
   "cell_type": "code",
   "execution_count": 17,
   "metadata": {},
   "outputs": [
    {
     "name": "stdout",
     "output_type": "stream",
     "text": [
      "num of sparse cols: 21\n",
      "num of dense cols: 7\n"
     ]
    }
   ],
   "source": [
    "sparse_col = torch.LongTensor(list(range(0, len(cat_features))))\n",
    "dense_col = torch.LongTensor(list(range(len(cat_features), m)))\n",
    "m_sparse = sparse_col.size()[0]\n",
    "m_dense = dense_col.size()[0]\n",
    "print(\"num of sparse cols: %d\\nnum of dense cols: %d\"%(m_sparse, m_dense))"
   ]
  },
  {
   "cell_type": "markdown",
   "metadata": {},
   "source": [
    "### Define Network layers"
   ]
  },
  {
   "cell_type": "code",
   "execution_count": 18,
   "metadata": {},
   "outputs": [],
   "source": [
    "class Cross(nn.Module):\n",
    "    def __init__(self, output_features, x0):\n",
    "        super(Cross, self).__init__()\n",
    "        self.output_features = output_features\n",
    "        self.x0 = x0\n",
    "\n",
    "        self.weight = nn.Parameter(torch.cuda.FloatTensor(output_features, 1))\n",
    "        self.bias = nn.Parameter(torch.cuda.FloatTensor(1, output_features))\n",
    "\n",
    "        self.weight.data.uniform_(-0.1, 0.1)\n",
    "        self.bias.data.uniform_(-0.1, 0.1)\n",
    "\n",
    "    def forward(self, input):\n",
    "        x_w = input.mm(self.weight).unsqueeze_(-1)\n",
    "        x0T = self.x0.clone().unsqueeze_(-1).permute([0,2,1])\n",
    "        f = torch.bmm(x_w, x0T).squeeze()\n",
    "        output = f + self.bias + input\n",
    "        return output\n",
    "\n",
    "    def extra_repr(self):\n",
    "        return 'in_features={}, out_features={}, bias={}'.format(\n",
    "            self.in_features, self.out_features, self.bias\n",
    "        )\n"
   ]
  },
  {
   "cell_type": "code",
   "execution_count": 19,
   "metadata": {},
   "outputs": [],
   "source": [
    "class fullDCN(nn.Module):\n",
    "    def __init__(self, embedding_dict, dense_size, num_deep_layers, num_cross_layers, d_units, w_units):\n",
    "        super().__init__()\n",
    "        self.embedding_layers = nn.ModuleList()\n",
    "        self.num_dls = num_deep_layers\n",
    "        self.num_cls = num_cross_layers\n",
    "        lst = [nn.Embedding(num_embeddings=embedding_dict[feature][0], embedding_dim=embedding_dict[feature][1]) for feature in embedding_dict]\n",
    "        self.embedding_layers.extend(lst)\n",
    "        embedding_size = sum([embedding_dict[feature][1] for feature in embedding_dict])\n",
    "        \n",
    "        self.cross_layer_size = dense_size + embedding_size\n",
    "        \n",
    "         #deep network layers\n",
    "        self.fc1 = nn.Linear(self.cross_layer_size, d_units, bias=True)\n",
    "        self.fc_bn = nn.BatchNorm1d(d_units)\n",
    "        self.fc2 = nn.Linear(d_units, d_units, bias=True)\n",
    "        self.dropout = nn.Dropout(p=0.5)\n",
    "        \n",
    "        #cross network layers\n",
    "        self.linear_with_bias = nn.Linear(self.cross_layer_size, self.cross_layer_size, bias=True)\n",
    "        self.cross_layer_bn = nn.BatchNorm1d(self.cross_layer_size)\n",
    "        \n",
    "        #wide network layers\n",
    "        self.wide = nn.Linear(self.cross_layer_size, w_units, bias=True)\n",
    "        \n",
    "        #combination layer\n",
    "        self.CombLayer = nn.Linear(d_units+w_units+self.cross_layer_size, 1, bias=True)\n",
    "        \n",
    "        #output\n",
    "        self.output = nn.Sigmoid()\n",
    "\n",
    "    def forward(self, x):\n",
    "        x_sparse = x[:,sparse_col].long()\n",
    "        x_dense = x[:,dense_col]\n",
    "        embedding_tensor = torch.cat([self.embedding_layers[sparse_feature](x_sparse[:, sparse_feature]) for sparse_feature in range(m_sparse)], dim=1)\n",
    "        x0 = torch.cat([embedding_tensor, x_dense], dim=1)\n",
    "        x_dl = F.relu(self.dropout(self.fc_bn(self.fc1(x0))))\n",
    "        for _ in range(self.num_dls):\n",
    "            x_dl = self.dropout(self.fc_bn(self.fc2(x_dl)))\n",
    "        \n",
    "        x_wl = self.wide(x0)\n",
    "        \n",
    "        x_cl = self.linear_with_bias(x0)\n",
    "        for _ in range(self.num_cls):\n",
    "            x_cl = Cross(self.cross_layer_size, x0)(x_cl)\n",
    "        \n",
    "        x_final = torch.cat([x_dl, x_wl, x_cl], dim=1)\n",
    "        result = self.CombLayer(x_final)\n",
    "        y = self.output(result)\n",
    "        return y"
   ]
  },
  {
   "cell_type": "markdown",
   "metadata": {},
   "source": [
    "### Define Model parameters"
   ]
  },
  {
   "cell_type": "code",
   "execution_count": 20,
   "metadata": {},
   "outputs": [
    {
     "name": "stdout",
     "output_type": "stream",
     "text": [
      "----------------------------------------------------------------\n",
      "Layer (type)          Output Shpae              Param #        \n",
      "================================================================\n",
      "Embedding-1           [-1, 10]                  6420           \n",
      "Embedding-2           [-1, 5]                   65             \n",
      "Embedding-3           [-1, 10]                  54120          \n",
      "Embedding-4           [-1, 10]                  96290          \n",
      "Embedding-5           [-1, 5]                   290            \n",
      "Embedding-6           [-1, 10]                  49900          \n",
      "Embedding-7           [-1, 10]                  35700          \n",
      "Embedding-8           [-1, 10]                  26140          \n",
      "Embedding-9           [-1, 3]                   18             \n",
      "Embedding-10          [-1, 5]                   55             \n",
      "Embedding-11          [-1, 10]                  1400           \n",
      "Embedding-12          [-1, 5]                   135            \n",
      "Embedding-13          [-1, 10]                  8930           \n",
      "Embedding-14          [-1, 10]                  6640           \n",
      "Embedding-15          [-1, 5]                   390            \n",
      "Embedding-16          [-1, 3]                   21             \n",
      "Embedding-17          [-1, 3]                   9              \n",
      "Embedding-18          [-1, 5]                   100            \n",
      "Embedding-19          [-1, 5]                   300            \n",
      "Embedding-20          [-1, 3]                   24             \n",
      "Embedding-21          [-1, 5]                   55             \n",
      "Linear-22             [-1, 100]                 15000          \n",
      "BatchNorm1d-23        [-1, 100]                 200            \n",
      "Dropout-24            [-1, 100]                 0              \n",
      "Linear-25             [-1, 100]                 10100          \n",
      "BatchNorm1d-26        [-1, 100]                 200            \n",
      "Dropout-27            [-1, 100]                 0              \n",
      "Linear-28             [-1, 100]                 10100          \n",
      "BatchNorm1d-29        [-1, 100]                 200            \n",
      "Dropout-30            [-1, 100]                 0              \n",
      "Linear-31             [-1, 100]                 10100          \n",
      "BatchNorm1d-32        [-1, 100]                 200            \n",
      "Dropout-33            [-1, 100]                 0              \n",
      "Linear-34             [-1, 100]                 10100          \n",
      "BatchNorm1d-35        [-1, 100]                 200            \n",
      "Dropout-36            [-1, 100]                 0              \n",
      "Linear-37             [-1, 100]                 10100          \n",
      "BatchNorm1d-38        [-1, 100]                 200            \n",
      "Dropout-39            [-1, 100]                 0              \n",
      "Linear-40             [-1, 500]                 75000          \n",
      "Linear-41             [-1, 149]                 22350          \n",
      "Linear-42             [-1, 1]                   750            \n",
      "Sigmoid-43            [-1, 1]                   0              \n",
      "================================================================\n",
      "Total params: 451802\n",
      "Trainable params: 451802\n",
      "Non-trainable params: 0\n",
      "----------------------------------------------------------------\n"
     ]
    }
   ],
   "source": [
    "DCNnet = fullDCN(embedding_dict=embed_dict, \n",
    "                 dense_size=m_dense, \n",
    "                 num_deep_layers=5, \n",
    "                 num_cross_layers=1, \n",
    "                 d_units=100, \n",
    "                 w_units=500).to(device)\n",
    "summary([x_val.shape[1]], DCNnet, device)"
   ]
  },
  {
   "cell_type": "code",
   "execution_count": 21,
   "metadata": {},
   "outputs": [
    {
     "name": "stdout",
     "output_type": "stream",
     "text": [
      "Model parameters:\n",
      "criterion:\n",
      "BCELoss()\n",
      "optimizer:\n",
      "Adam (\n",
      "Parameter Group 0\n",
      "    amsgrad: False\n",
      "    betas: (0.9, 0.999)\n",
      "    eps: 1e-08\n",
      "    lr: 0.01\n",
      "    weight_decay: 0.001\n",
      ")\n",
      "epochs: 50\n",
      "batch_size: 32768\n",
      "num_batches: 11\n"
     ]
    }
   ],
   "source": [
    "criterion = nn.BCELoss()\n",
    "optimizer = optim.Adam(DCNnet.parameters(), lr=.01, weight_decay=0.001)\n",
    "# scheduler = optim.lr_scheduler.ReduceLROnPlateau(optimizer, 'min', verbose=True)\n",
    "# optimizer = torch.optim.SGD(DCNnet.parameters(), lr=0.01, momentum=1.2)\n",
    "epochs = 50\n",
    "batch_size = 2**15\n",
    "num_batches = int(len(y_train)//batch_size)\n",
    "print(\"Model parameters:\")\n",
    "print(\"criterion:\\n%s\"%str(criterion))\n",
    "print(\"optimizer:\\n%s\"%str(optimizer))\n",
    "print(\"epochs: %d\"%epochs)\n",
    "print(\"batch_size: %d\"%batch_size)\n",
    "print(\"num_batches: %d\"%num_batches)"
   ]
  },
  {
   "cell_type": "markdown",
   "metadata": {},
   "source": [
    "## Run the model"
   ]
  },
  {
   "cell_type": "code",
   "execution_count": 22,
   "metadata": {},
   "outputs": [
    {
     "name": "stdout",
     "output_type": "stream",
     "text": [
      "start training\n",
      "e:  1/50, b: 11/11, loss=0.203, val_loss=0.861, auc=0.609, cal=0.092, 3.61s\n",
      "e:  2/50, b: 11/11, loss=0.545, val_loss=1.358, auc=0.739, cal=0.012, 3.56s\n",
      "e:  3/50, b: 11/11, loss=0.423, val_loss=2.111, auc=0.774, cal=0.398, 3.56s\n",
      "e:  4/50, b: 11/11, loss=0.221, val_loss=2.314, auc=0.800, cal=1.261, 3.60s\n",
      "e:  5/50, b: 11/11, loss=0.084, val_loss=2.220, auc=0.808, cal=0.588, 3.59s\n",
      "e:  6/50, b: 11/11, loss=0.038, val_loss=2.008, auc=0.803, cal=0.187, 3.60s\n",
      "e:  7/50, b: 11/11, loss=0.042, val_loss=1.830, auc=0.655, cal=0.025, 3.58s\n",
      "e:  8/50, b: 11/11, loss=0.026, val_loss=1.696, auc=0.716, cal=0.483, 3.58s\n",
      "e:  9/50, b: 11/11, loss=0.018, val_loss=1.567, auc=0.827, cal=0.843, 3.57s\n",
      "e: 10/50, b: 11/11, loss=0.017, val_loss=1.460, auc=0.830, cal=1.024, 3.59s\n",
      "e: 11/50, b: 11/11, loss=0.016, val_loss=1.372, auc=0.830, cal=0.991, 3.57s\n",
      "e: 12/50, b: 11/11, loss=0.014, val_loss=1.298, auc=0.832, cal=0.999, 3.58s\n",
      "e: 13/50, b: 11/11, loss=0.013, val_loss=1.236, auc=0.836, cal=1.054, 3.56s\n",
      "e: 14/50, b: 11/11, loss=0.012, val_loss=1.182, auc=0.837, cal=1.039, 3.58s\n",
      "e: 15/50, b: 11/11, loss=0.010, val_loss=1.136, auc=0.835, cal=0.959, 3.56s\n",
      "e: 16/50, b: 11/11, loss=0.010, val_loss=1.095, auc=0.837, cal=1.097, 3.58s\n",
      "e: 17/50, b: 11/11, loss=0.010, val_loss=1.059, auc=0.837, cal=1.119, 3.57s\n",
      "e: 18/50, b: 11/11, loss=0.009, val_loss=1.028, auc=0.838, cal=1.104, 3.59s\n",
      "e: 19/50, b: 11/11, loss=0.009, val_loss=0.999, auc=0.836, cal=1.125, 3.56s\n",
      "e: 20/50, b: 11/11, loss=0.008, val_loss=0.973, auc=0.839, cal=1.009, 3.58s\n",
      "e: 21/50, b: 11/11, loss=0.008, val_loss=0.950, auc=0.838, cal=1.135, 3.57s\n",
      "e: 22/50, b: 11/11, loss=0.007, val_loss=0.929, auc=0.842, cal=1.045, 3.58s\n",
      "e: 23/50, b: 11/11, loss=0.007, val_loss=0.909, auc=0.839, cal=1.164, 3.57s\n",
      "e: 24/50, b: 11/11, loss=0.007, val_loss=0.892, auc=0.838, cal=1.055, 3.59s\n",
      "e: 25/50, b: 11/11, loss=0.006, val_loss=0.875, auc=0.838, cal=1.008, 3.57s\n",
      "e: 26/50, b: 11/11, loss=0.006, val_loss=0.860, auc=0.841, cal=1.245, 3.59s\n",
      "e: 27/50, b: 11/11, loss=0.006, val_loss=0.846, auc=0.841, cal=1.199, 3.56s\n",
      "e: 28/50, b: 11/11, loss=0.006, val_loss=0.833, auc=0.840, cal=1.156, 3.59s\n",
      "e: 29/50, b: 11/11, loss=0.006, val_loss=0.821, auc=0.839, cal=1.096, 3.57s\n",
      "e: 30/50, b: 11/11, loss=0.005, val_loss=0.810, auc=0.842, cal=1.113, 3.59s\n",
      "e: 31/50, b: 11/11, loss=0.005, val_loss=0.799, auc=0.841, cal=1.003, 3.58s\n",
      "e: 32/50, b: 11/11, loss=0.005, val_loss=0.790, auc=0.840, cal=1.123, 3.60s\n",
      "e: 33/50, b: 11/11, loss=0.005, val_loss=0.780, auc=0.840, cal=1.147, 3.57s\n",
      "e: 34/50, b: 11/11, loss=0.004, val_loss=0.772, auc=0.840, cal=1.145, 3.59s\n",
      "e: 35/50, b: 11/11, loss=0.004, val_loss=0.763, auc=0.839, cal=1.036, 3.59s\n",
      "e: 36/50, b: 11/11, loss=0.004, val_loss=0.755, auc=0.842, cal=1.064, 3.59s\n",
      "e: 37/50, b: 11/11, loss=0.005, val_loss=0.748, auc=0.841, cal=1.182, 3.58s\n",
      "e: 38/50, b: 11/11, loss=0.004, val_loss=0.741, auc=0.843, cal=1.077, 3.59s\n",
      "e: 39/50, b: 11/11, loss=0.004, val_loss=0.734, auc=0.841, cal=0.993, 3.56s\n",
      "e: 40/50, b: 11/11, loss=0.004, val_loss=0.728, auc=0.842, cal=1.098, 3.60s\n",
      "e: 41/50, b: 11/11, loss=0.004, val_loss=0.722, auc=0.842, cal=1.202, 3.57s\n",
      "e: 42/50, b: 11/11, loss=0.004, val_loss=0.716, auc=0.845, cal=1.089, 3.59s\n",
      "e: 43/50, b: 11/11, loss=0.004, val_loss=0.711, auc=0.845, cal=1.088, 3.57s\n",
      "e: 44/50, b: 11/11, loss=0.004, val_loss=0.706, auc=0.844, cal=1.084, 3.58s\n",
      "e: 45/50, b: 11/11, loss=0.004, val_loss=0.700, auc=0.845, cal=1.167, 3.57s\n",
      "e: 46/50, b: 11/11, loss=0.003, val_loss=0.696, auc=0.845, cal=1.075, 3.60s\n",
      "e: 47/50, b: 11/11, loss=0.003, val_loss=0.691, auc=0.842, cal=1.023, 3.59s\n",
      "e: 48/50, b: 11/11, loss=0.003, val_loss=0.687, auc=0.844, cal=1.107, 3.60s\n",
      "e: 49/50, b: 11/11, loss=0.003, val_loss=0.683, auc=0.845, cal=1.115, 3.57s\n",
      "e: 50/50, b: 11/11, loss=0.003, val_loss=0.678, auc=0.844, cal=1.018, 3.59s\n",
      "Finished Training\n"
     ]
    }
   ],
   "source": [
    "train_loss = 0\n",
    "val_loss = 0\n",
    "scale = 10e5\n",
    "mean_val_loss, val_auc, val_cal = [], [], []\n",
    "x_val_sparse = x_val[:,sparse_col]\n",
    "x_val_dense = x_val[:,dense_col]\n",
    "print(\"start training\")\n",
    "l = 17\n",
    "pattern = \"[%%-%ds]\"%l\n",
    "for t in range(epochs):\n",
    "    start_time = time.time()\n",
    "    epochrandvec=torch.randperm(len(y_train))\n",
    "    x_train = x_train[epochrandvec,:]\n",
    "    y_train = y_train[epochrandvec]\n",
    "    w_train = w_train[epochrandvec]\n",
    "    for i in range(num_batches):\n",
    "        \n",
    "        indvec = torch.LongTensor(list(range((i)*batch_size, (i)*batch_size+batch_size)))\n",
    "        x_batch = x_train[indvec]\n",
    "        y_batch = y_train[indvec]\n",
    "        criterion.weight = w_train[indvec]\n",
    "        \n",
    "        x_sparse = x_batch[:,sparse_col]\n",
    "        x_dense = x_batch[:,dense_col]\n",
    "\n",
    "        #initialize\n",
    "        optimizer.zero_grad()\n",
    "        \n",
    "        # forward + backward + optimize\n",
    "        trainOutputs = DCNnet(x_batch)\n",
    "        loss = criterion(trainOutputs.squeeze(), y_batch)\n",
    "        train_loss = scale*loss.item()\n",
    "        \n",
    "        #Update Network\n",
    "        loss.backward()\n",
    "        optimizer.step()\n",
    "\n",
    "        #evaluation metrics\n",
    "        with torch.no_grad():\n",
    "            valOutputs = DCNnet(x_val)\n",
    "            criterion.weight = w_val\n",
    "            validation = criterion(valOutputs.squeeze(), y_val)\n",
    "            val_loss += scale*validation.item()\n",
    "            mean_val_loss.append(val_loss/((i+1+t*num_batches)*x_val.shape[0]))\n",
    "            val_auc.append(roc_auc_score(y_val.cpu().data.numpy(), valOutputs.cpu().data.numpy(), sample_weight=w_val))\n",
    "            val_cal.append((valOutputs.squeeze().mul(w_val).sum() / y_val.mul(w_val).sum()).item())\n",
    "        torch.cuda.empty_cache()\n",
    "        sys.stdout.write(\"\\r\" + pattern%('='*(int(i*(l)/num_batches))+'>') + \" \" +\\\n",
    "                         \"loss=%.3f, val_loss=%.3f, auc=%.3f, cal=%.3f\"%\n",
    "                         (train_loss/(batch_size*(i+1+t*num_batches)), \n",
    "                          mean_val_loss[-1], val_auc[-1], val_cal[-1]))\n",
    "        sys.stdout.flush()\n",
    "        \n",
    "    end_time = time.time()\n",
    "    elapsed = end_time - start_time\n",
    "    sys.stdout.write(\"\\r\")\n",
    "    print(\"e: %2d/%2d, b: %2d/%2d, loss=%.3f, val_loss=%.3f, auc=%.3f, cal=%.3f, %.2fs\"%\n",
    "          (t+1, epochs, i+1, num_batches, \n",
    "          train_loss/(batch_size*(i+1+t*num_batches)), mean_val_loss[-1], \n",
    "          val_auc[-1], val_cal[-1], elapsed))\n",
    "    \n",
    "print('Finished Training')"
   ]
  },
  {
   "cell_type": "markdown",
   "metadata": {},
   "source": [
    "## Calculate AUC and calibration metrics"
   ]
  },
  {
   "cell_type": "code",
   "execution_count": 23,
   "metadata": {},
   "outputs": [
    {
     "name": "stdout",
     "output_type": "stream",
     "text": [
      "val:\n",
      "number of observations = 120547\n",
      "\tAUC = 0.8454\n",
      "\tCalibration = 1.0362\n",
      "\tctrpm = 12.19\n",
      "test:\n",
      "number of observations = 120547\n",
      "\tAUC = 0.8467\n",
      "\tCalibration = 0.9813\n",
      "\tctrpm = 12.22\n"
     ]
    }
   ],
   "source": [
    "torch.cuda.empty_cache()\n",
    "for data in [[x_val, y_val, w_val, 'val'], [x_test, y_test, w_test, 'test']]:\n",
    "    with torch.no_grad():\n",
    "        probs = DCNnet(data[0].squeeze())\n",
    "        sample_weight = data[2].cpu().data.numpy()\n",
    "        torch.cuda.empty_cache()\n",
    "        print(data[3]+':')\n",
    "        print(\"number of observations = %d\"%(len(data[1].cpu().data.numpy())))\n",
    "        print(\"\\tAUC = %.4f\"%(roc_auc_score(data[1].cpu().data.numpy(), probs.cpu().data.numpy(), sample_weight=sample_weight)))\n",
    "        print(\"\\tCalibration = %.4f\"%(probs.flatten().dot(data[2])/data[1].dot(data[2]).item()))\n",
    "        print(\"\\tctrpm = %.2f\"%(1000*data[1].dot(data[2])/data[1].shape[0]))"
   ]
  },
  {
   "cell_type": "code",
   "execution_count": 35,
   "metadata": {},
   "outputs": [
    {
     "data": {
      "image/png": "[encoded data removed]",
      "text/plain": [
       "<Figure size 864x648 with 4 Axes>"
      ]
     },
     "metadata": {
      "needs_background": "light"
     },
     "output_type": "display_data"
    }
   ],
   "source": [
    "plt.figure(figsize=(12,9))\n",
    "plt.subplot(2,2,1)\n",
    "plt.plot(mean_val_loss, label='validation loss')\n",
    "plt.legend()\n",
    "plt.subplot(2,2,2)\n",
    "with torch.no_grad():\n",
    "    probs = DCNnet(x_test.squeeze())\n",
    "v = torch.cat([probs.cpu().reshape((probs.shape[0],1)),y_test.cpu().reshape((y_test.shape[0],1))], dim=1).data.numpy()\n",
    "v = v[np.argsort(v[:, 0])[::-1]]\n",
    "means = np.array_split(v, 20)\n",
    "means = np.array([[v[:, 0].mean(), v[:, 1].mean()] for v in means])\n",
    "max_v = np.max(means)+0.001\n",
    "plt.plot(means[:, 1], means[:,0], 'o--g', label='pp plot: p vs actual');\n",
    "plt.plot([0,max_v],[0,max_v],'r--')\n",
    "plt.xlim([0,max_v])\n",
    "plt.ylim([0,max_v])\n",
    "plt.legend()\n",
    "plt.subplot(2,2,3)\n",
    "plt.plot(val_auc, 'k-', label='auc')\n",
    "plt.legend()\n",
    "plt.subplot(2,2,4)\n",
    "plt.plot(val_cal, 'c-', label='calibration')\n",
    "plt.legend();\n",
    "plt.tight_layout();"
   ]
  },
  {
   "cell_type": "markdown",
   "metadata": {},
   "source": [
    "## Export model with onnx"
   ]
  },
  {
   "cell_type": "code",
   "execution_count": 25,
   "metadata": {},
   "outputs": [],
   "source": [
    "# from tensorboardX import SummaryWriter\n",
    "\n",
    "# writer = SummaryWriter(comment='testing')\n",
    "# writer.add_graph(DCNnet, (x_val_sparse, x_val_dense), verbose=False)\n",
    "\n",
    "# torch.onnx._export(DCNnet, (x_val_sparse, x_val_dense), 'dcnet.onnx', verbose=False)"
   ]
  },
  {
   "cell_type": "code",
   "execution_count": 26,
   "metadata": {},
   "outputs": [],
   "source": [
    "# # !pip install git+https://github.com/szagoruyko/pytorchviz\n",
    "# from torchviz import make_dot"
   ]
  },
  {
   "cell_type": "code",
   "execution_count": 27,
   "metadata": {},
   "outputs": [],
   "source": [
    "# torchviz.make_dot_from_trace(torch.jit.trace(DCNnet, args=(x_val_sparse, x_val_dense, )))"
   ]
  },
  {
   "cell_type": "code",
   "execution_count": null,
   "metadata": {},
   "outputs": [],
   "source": []
  }
 ],
 "metadata": {
  "kernelspec": {
   "display_name": "Python 3",
   "language": "python",
   "name": "python3"
  },
  "language_info": {
   "codemirror_mode": {
    "name": "ipython",
    "version": 3
   },
   "file_extension": ".py",
   "mimetype": "text/x-python",
   "name": "python",
   "nbconvert_exporter": "python",
   "pygments_lexer": "ipython3",
   "version": "3.6.5"
  }
 },
 "nbformat": 4,
 "nbformat_minor": 2
}
