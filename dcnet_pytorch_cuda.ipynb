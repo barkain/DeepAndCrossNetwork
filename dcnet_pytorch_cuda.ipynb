{
 "cells": [
  {
   "cell_type": "markdown",
   "metadata": {},
   "source": [
    "# Deep and Cross Network\n",
    "## Pytorch implementation based on the paper arxiv.org/abs/1708.05123"
   ]
  },
  {
   "cell_type": "code",
   "execution_count": 1,
   "metadata": {},
   "outputs": [],
   "source": [
    "import yaml\n",
    "import torch\n",
    "import torch.nn as nn\n",
    "import torch.nn.functional as F\n",
    "import pandas as pd\n",
    "import torch.optim as optim\n",
    "from torch.distributions import beta\n",
    "import torch.onnx\n",
    "import numpy as np\n",
    "from sklearn.metrics import roc_auc_score\n",
    "import os\n",
    "import time\n",
    "import sys\n",
    "from torchvision.transforms import *\n",
    "from tqdm import tqdm, tqdm_notebook, tnrange\n",
    "import matplotlib.pyplot as plt\n",
    "\n",
    "from torch_summary import summary\n",
    "SEED = 123\n",
    "np.random.seed(SEED)\n",
    "torch.manual_seed(SEED)\n",
    "\n",
    "%matplotlib inline"
   ]
  },
  {
   "cell_type": "code",
   "execution_count": 2,
   "metadata": {},
   "outputs": [
    {
     "name": "stdout",
     "output_type": "stream",
     "text": [
      "using cpu\n"
     ]
    }
   ],
   "source": [
    "torch.cuda.is_available()\n",
    "device = torch.device(\"cuda:0\" if torch.cuda.is_available() else \"cpu\")\n",
    "print(\"using %s\"%device)"
   ]
  },
  {
   "cell_type": "code",
   "execution_count": 3,
   "metadata": {},
   "outputs": [],
   "source": [
    "with open(\"config.yml\", 'r') as ymlfile:\n",
    "    cfg = yaml.load(ymlfile)\n",
    "    filename = cfg['filename']\n",
    "    x_col_cat = cfg['features']['categorical']\n",
    "    x_col_bin = cfg['features']['binary']\n",
    "    x_col_num = cfg['features']['numerical']\n",
    "    x_col_cyc = cfg['features']['cyclical']\n",
    "    y_col = cfg['features']['label']\n",
    "    w_col = cfg['features']['weight']"
   ]
  },
  {
   "cell_type": "code",
   "execution_count": 4,
   "metadata": {},
   "outputs": [
    {
     "name": "stdout",
     "output_type": "stream",
     "text": [
      "dataset size: (602733, 30)\n",
      "ctr = 0.00952\n"
     ]
    }
   ],
   "source": [
    "nrows=1e7\n",
    "df = pd.read_csv(filename, nrows=nrows)\n",
    "print(\"dataset size: %s\"%str(df.shape))\n",
    "print(\"ctr = %.5f\"%((df[y_col]*df[w_col]).sum()*1./df[w_col].sum()))"
   ]
  },
  {
   "cell_type": "code",
   "execution_count": 5,
   "metadata": {},
   "outputs": [],
   "source": [
    "def merge_columns(arr):\n",
    "    arr = arr.astype(str)\n",
    "    vals = (arr[:,0].astype(object)+'_'+arr[:,1].astype(object))\n",
    "    for i in range(2, arr.shape[1]):\n",
    "        vals = (vals+'_'+arr[:,i].astype(object))\n",
    "    return vals"
   ]
  },
  {
   "cell_type": "code",
   "execution_count": 6,
   "metadata": {},
   "outputs": [
    {
     "name": "stdout",
     "output_type": "stream",
     "text": [
      "['geo_state', 'geo_country', 'geo_city', 'zip_code', 'category_1', 'domain', 'app_bundle', 'publisher_id', 'device_type', 'device_os', 'device_os_version', 'device_browser', 'device_browser_version', 'carrier', 'language', 'exchange_id', 'banner_type', 'account_campaign', 'account_banner', 'account_advertiser', 'account_offer']\n"
     ]
    }
   ],
   "source": [
    "cat_features = []\n",
    "for f in x_col_cat:\n",
    "    if(isinstance(f, str)==False):\n",
    "        df[list(f.values())[0]] = df[list(f.values())[0]].fillna('unknown')\n",
    "        df[list(f.keys())[0]] = merge_columns(df[list(f.values())[0]].values)\n",
    "        cat_features.append(list(f.keys())[0])\n",
    "    else:\n",
    "        df[f] = df[f].fillna('unknown')\n",
    "        cat_features.append(f)\n",
    "print(cat_features)"
   ]
  },
  {
   "cell_type": "code",
   "execution_count": 7,
   "metadata": {},
   "outputs": [
    {
     "name": "stdout",
     "output_type": "stream",
     "text": [
      "is_interstitial {'No': 0, 'Yes': 1}\n",
      "is_mobile_web_optimized {'No': 0, 'Yes': 1}\n",
      "is_app {'Yes': 0, 'No': 1}\n",
      "['is_interstitial', 'is_mobile_web_optimized', 'is_app']\n"
     ]
    }
   ],
   "source": [
    "binary_features = []\n",
    "for f in x_col_bin:\n",
    "    uniques = df[f].unique()\n",
    "    d = {uniques[0]:0, uniques[1]:1}\n",
    "    df[f] = df[f].map(d)\n",
    "    binary_features.append(f)\n",
    "    print(f, d)\n",
    "print(binary_features)"
   ]
  },
  {
   "cell_type": "code",
   "execution_count": 8,
   "metadata": {},
   "outputs": [
    {
     "name": "stdout",
     "output_type": "stream",
     "text": [
      "user_day_of_week 7\n",
      "user_hour 24\n",
      "['user_day_of_week_sin', 'user_day_of_week_cos', 'user_hour_sin', 'user_hour_cos']\n"
     ]
    }
   ],
   "source": [
    "cyc_features = []\n",
    "for f in x_col_cyc:\n",
    "    nuniques = df[f].nunique()\n",
    "    df[f+'_sin'] = np.sin(df[f]*(2.*np.pi/nuniques))\n",
    "    df[f+'_cos'] = np.cos(df[f]*(2.*np.pi/nuniques))\n",
    "    cyc_features.append(f+'_sin')\n",
    "    cyc_features.append(f+'_cos')\n",
    "    print(f, nuniques)\n",
    "print(cyc_features)"
   ]
  },
  {
   "cell_type": "markdown",
   "metadata": {},
   "source": [
    "### Encoding"
   ]
  },
  {
   "cell_type": "code",
   "execution_count": 9,
   "metadata": {},
   "outputs": [],
   "source": [
    "def binary_encode(s, modulo, required_bits=8):\n",
    "    num = hash(s) % modulo\n",
    "    return np.array(list(np.binary_repr(num).zfill(required_bits))).astype(np.int8)\n",
    "\n",
    "def hashing_trick(s, modulo):\n",
    "    num = hash(s) % modulo\n",
    "    arr = np.zeros((modulo)).astype(np.int8)\n",
    "    arr[num] = 1\n",
    "    return arr\n",
    "\n",
    "def get_sparse_index(s, modulo):\n",
    "    return hash(s) % modulo"
   ]
  },
  {
   "cell_type": "markdown",
   "metadata": {},
   "source": [
    "#### Combine columns"
   ]
  },
  {
   "cell_type": "code",
   "execution_count": 10,
   "metadata": {},
   "outputs": [],
   "source": [
    "df = df[cat_features + binary_features + cyc_features + [y_col] + [w_col]]"
   ]
  },
  {
   "cell_type": "markdown",
   "metadata": {},
   "source": [
    "Here we represent categorical features as sparse index. In production system this encoding can be done by maintaining a map of unique values per feature"
   ]
  },
  {
   "cell_type": "code",
   "execution_count": 11,
   "metadata": {},
   "outputs": [
    {
     "name": "stderr",
     "output_type": "stream",
     "text": [
      "100%|██████████| 21/21 [00:02<00:00,  7.44it/s]"
     ]
    },
    {
     "name": "stdout",
     "output_type": "stream",
     "text": [
      "geo_state 642\n",
      "geo_country 13\n",
      "geo_city 5412\n",
      "zip_code 9629\n",
      "category_1 58\n",
      "domain 4990\n",
      "app_bundle 3570\n",
      "publisher_id 2614\n",
      "device_type 6\n",
      "device_os 11\n",
      "device_os_version 140\n",
      "device_browser 27\n",
      "device_browser_version 893\n",
      "carrier 664\n",
      "language 78\n",
      "exchange_id 7\n",
      "banner_type 3\n",
      "account_campaign 20\n",
      "account_banner 60\n",
      "account_advertiser 8\n",
      "account_offer 11\n"
     ]
    },
    {
     "name": "stderr",
     "output_type": "stream",
     "text": [
      "\n"
     ]
    }
   ],
   "source": [
    "cat_cols = {}\n",
    "column_instance_dict = {}\n",
    "modulos = []\n",
    "for col in tqdm(cat_features):\n",
    "    modulo = df[col].nunique()\n",
    "    cat_cols[col] = modulo\n",
    "    modulos.append(modulo)\n",
    "    column_instance_dict[col] = dict(zip(df[col].unique(), range(len(df[col].unique()))))\n",
    "    df[col] = df[col].map(column_instance_dict[col])\n",
    "for c in cat_features:\n",
    "    print(c, cat_cols[c])"
   ]
  },
  {
   "cell_type": "code",
   "execution_count": 12,
   "metadata": {},
   "outputs": [
    {
     "data": {
      "text/plain": [
       "[['geo_state', 642, 10],\n",
       " ['geo_country', 13, 5],\n",
       " ['geo_city', 5412, 10],\n",
       " ['zip_code', 9629, 10],\n",
       " ['category_1', 58, 5],\n",
       " ['domain', 4990, 10],\n",
       " ['app_bundle', 3570, 10],\n",
       " ['publisher_id', 2614, 10],\n",
       " ['device_type', 6, 3],\n",
       " ['device_os', 11, 5],\n",
       " ['device_os_version', 140, 10],\n",
       " ['device_browser', 27, 5],\n",
       " ['device_browser_version', 893, 10],\n",
       " ['carrier', 664, 10],\n",
       " ['language', 78, 5],\n",
       " ['exchange_id', 7, 3],\n",
       " ['banner_type', 3, 3],\n",
       " ['account_campaign', 20, 5],\n",
       " ['account_banner', 60, 5],\n",
       " ['account_advertiser', 8, 3],\n",
       " ['account_offer', 11, 5]]"
      ]
     },
     "execution_count": 12,
     "metadata": {},
     "output_type": "execute_result"
    }
   ],
   "source": [
    "embed_list = []\n",
    "for c in cat_cols:\n",
    "    if(cat_cols[c]<=10):\n",
    "        embed_list.append([c, cat_cols[c], 3])\n",
    "    elif(cat_cols[c]<=100):\n",
    "        embed_list.append([c, cat_cols[c], 5])\n",
    "    else:\n",
    "        embed_list.append([c, cat_cols[c], 10])\n",
    "embed_list"
   ]
  },
  {
   "cell_type": "code",
   "execution_count": 13,
   "metadata": {},
   "outputs": [
    {
     "name": "stdout",
     "output_type": "stream",
     "text": [
      "number of x columns: 28\n"
     ]
    }
   ],
   "source": [
    "x_cols = [c for c in df.columns if (c != 'clicks') and (c != 'impressions')]\n",
    "print(\"number of x columns: %d\"%(len(x_cols)))"
   ]
  },
  {
   "cell_type": "code",
   "execution_count": 14,
   "metadata": {},
   "outputs": [
    {
     "name": "stdout",
     "output_type": "stream",
     "text": [
      "x_dense: (602733, 7) x_sparse: (602733, 21) y: (602733,) w: (602733,)\n"
     ]
    }
   ],
   "source": [
    "x_sparse = df[x_cols[:len(cat_features)]].values\n",
    "x_dense = df[x_cols[len(cat_features):]].values\n",
    "x = np.concatenate([x_sparse, x_dense], axis=1)\n",
    "y, w = np.array(df[y_col]), np.array(df[w_col])\n",
    "print(\"x_dense: %s x_sparse: %s y: %s w: %s\"%(x_dense.shape, x_sparse.shape, y.shape, w.shape))\n",
    "del df"
   ]
  },
  {
   "cell_type": "markdown",
   "metadata": {},
   "source": [
    "### Prepare data for pytorch and split"
   ]
  },
  {
   "cell_type": "code",
   "execution_count": 15,
   "metadata": {},
   "outputs": [],
   "source": [
    "x = torch.FloatTensor(x).to(device)\n",
    "y = torch.FloatTensor(y).to(device)\n",
    "w = torch.FloatTensor(w).to(device)"
   ]
  },
  {
   "cell_type": "code",
   "execution_count": 16,
   "metadata": {},
   "outputs": [
    {
     "name": "stdout",
     "output_type": "stream",
     "text": [
      "num obs train 361639\n",
      "num obs val 120547\n",
      "num obs test 120547\n"
     ]
    }
   ],
   "source": [
    "n, m = x.shape\n",
    "randvec = torch.randperm(n)\n",
    "x_train, x_val = torch.split(x[randvec],(n*3)//5, 0)\n",
    "y_train, y_val = torch.split(y[randvec],(n*3)//5, 0)\n",
    "w_train, w_val = torch.split(w[randvec],(n*3)//5, 0)\n",
    "\n",
    "n_val = x_val.shape[0]\n",
    "randvec_val = torch.randperm(n_val)\n",
    "x_val, x_test = torch.split(x_val[randvec_val],n_val//2, 0)\n",
    "y_val, y_test = torch.split(y_val[randvec_val],n_val//2, 0)\n",
    "w_val, w_test = torch.split(w_val[randvec_val],n_val//2, 0)\n",
    "\n",
    "print(\"num obs train %d\\nnum obs val %d\\nnum obs test %d\"%(x_train.shape[0], x_val.shape[0], x_test.shape[0]))"
   ]
  },
  {
   "cell_type": "markdown",
   "metadata": {},
   "source": [
    "## Build Model"
   ]
  },
  {
   "cell_type": "markdown",
   "metadata": {},
   "source": [
    "### Define Hyperparameters"
   ]
  },
  {
   "cell_type": "code",
   "execution_count": 17,
   "metadata": {},
   "outputs": [
    {
     "name": "stdout",
     "output_type": "stream",
     "text": [
      "num of sparse cols: 21\n",
      "num of dense cols: 7\n"
     ]
    }
   ],
   "source": [
    "sparse_col = torch.LongTensor(list(range(0, len(cat_features))))\n",
    "dense_col = torch.LongTensor(list(range(len(cat_features), m)))\n",
    "m_sparse = sparse_col.size()[0]\n",
    "m_dense = dense_col.size()[0]\n",
    "print(\"num of sparse cols: %d\\nnum of dense cols: %d\"%(m_sparse, m_dense))"
   ]
  },
  {
   "cell_type": "markdown",
   "metadata": {},
   "source": [
    "### Define Network layers"
   ]
  },
  {
   "cell_type": "code",
   "execution_count": 18,
   "metadata": {},
   "outputs": [],
   "source": [
    "class Cross(nn.Module):\n",
    "    def __init__(self, output_features, x0):\n",
    "        super(Cross, self).__init__()\n",
    "        self.output_features = output_features\n",
    "        self.x0 = x0\n",
    "\n",
    "        self.weight = nn.Parameter(torch.FloatTensor(output_features, 1).to(x0.device))\n",
    "        self.bias = nn.Parameter(torch.FloatTensor(1, output_features).to(x0.device))\n",
    "\n",
    "        self.weight.data.uniform_(-0.1, 0.1)\n",
    "        self.bias.data.uniform_(-0.1, 0.1)\n",
    "\n",
    "    def forward(self, input):\n",
    "        x_w = input.mm(self.weight).unsqueeze_(-1)\n",
    "        x0T = self.x0.clone().unsqueeze_(-1).permute([0,2,1])\n",
    "        f = torch.bmm(x_w, x0T).squeeze()\n",
    "        output = f + self.bias + input\n",
    "        return output\n",
    "\n",
    "    def extra_repr(self):\n",
    "        return 'in_features={}, out_features={}, bias={}'.format(\n",
    "            self.in_features, self.out_features, self.bias\n",
    "        )\n"
   ]
  },
  {
   "cell_type": "code",
   "execution_count": 19,
   "metadata": {},
   "outputs": [],
   "source": [
    "class DeepAndCrossNetwork(nn.Module):\n",
    "    def __init__(self, features_metadata, dense_size, num_deep_layers, num_cross_layers, d_units, w_units, dropout=0.5):\n",
    "        super().__init__()\n",
    "        self.num_dls = num_deep_layers\n",
    "        self.num_cls = num_cross_layers\n",
    "        self.d_units = d_units\n",
    "        self.w_units = w_units\n",
    "        self.embedding_layers = nn.ModuleList([nn.Embedding(num_embeddings=int(feature[1]), embedding_dim=int(feature[2])) for feature in features_metadata])\n",
    "        embedding_size = sum([int(feature[2]) for feature in features_metadata])\n",
    "        self.cross_layer_size = dense_size + embedding_size\n",
    "        \n",
    "         #deep network layers\n",
    "        self.fc1 = nn.Linear(self.cross_layer_size, d_units, bias=True)\n",
    "        self.bn = nn.BatchNorm1d(d_units)\n",
    "        self.dropout = nn.Dropout(p=dropout)\n",
    "        \n",
    "        self.dropouts = nn.ModuleList([nn.Dropout(p=dropout) for _ in range(self.num_dls)])\n",
    "        self.bns = nn.ModuleList([nn.BatchNorm1d(d_units) for _ in range(self.num_dls)])\n",
    "        self.fc2s = nn.ModuleList([nn.Linear(d_units, d_units, bias=True) for _ in range(self.num_dls)])\n",
    "        \n",
    "        #cross network layers\n",
    "        self.linear_with_bias = nn.Linear(self.cross_layer_size, self.cross_layer_size, bias=True)\n",
    "        self.cross_layer_bn = nn.BatchNorm1d(self.cross_layer_size)\n",
    "        \n",
    "        #wide network layers\n",
    "        self.wide = nn.Linear(self.cross_layer_size, w_units, bias=True)\n",
    "        \n",
    "        #combination layer\n",
    "        self.combine = nn.Linear(d_units+w_units+self.cross_layer_size, 1, bias=True)\n",
    "        \n",
    "        #output\n",
    "        self.output = nn.Sigmoid()\n",
    "\n",
    "    def forward(self, x):\n",
    "        m_sparse = len(self.embedding_layers)\n",
    "        x_sparse = x[:,:m_sparse].long()\n",
    "        x_dense = x[:,m_sparse:]\n",
    "        embedding_tensor = torch.cat([self.embedding_layers[sparse_feature](x_sparse[:, sparse_feature]) for sparse_feature in range(m_sparse)], dim=1)\n",
    "        x0 = torch.cat([embedding_tensor, x_dense], dim=1)\n",
    "        x_dl = F.relu(self.dropout(self.bn(self.fc1(x0))))\n",
    "        for i in range(self.num_dls):\n",
    "            x_dl = self.dropouts[i](self.bns[i](self.fc2s[i](x_dl)))\n",
    "        \n",
    "        x_wl = self.wide(x0)\n",
    "        \n",
    "        x_cl = self.linear_with_bias(x0)\n",
    "        for _ in range(self.num_cls):\n",
    "            x_cl = Cross(self.cross_layer_size, x0)(x_cl)\n",
    "        \n",
    "        x_final = torch.cat([x_dl, x_wl, x_cl], dim=1)\n",
    "        result = self.combine(x_final)\n",
    "        y = self.output(result)\n",
    "        return y"
   ]
  },
  {
   "cell_type": "markdown",
   "metadata": {},
   "source": [
    "### Define Model parameters"
   ]
  },
  {
   "cell_type": "code",
   "execution_count": 42,
   "metadata": {},
   "outputs": [
    {
     "name": "stdout",
     "output_type": "stream",
     "text": [
      "----------------------------------------------------------------\n",
      "Layer (type)          Output Shpae              Param #        \n",
      "================================================================\n",
      "Embedding-1           [-1, 10]                  6420           \n",
      "Embedding-2           [-1, 5]                   65             \n",
      "Embedding-3           [-1, 10]                  54120          \n",
      "Embedding-4           [-1, 10]                  96290          \n",
      "Embedding-5           [-1, 5]                   290            \n",
      "Embedding-6           [-1, 10]                  49900          \n",
      "Embedding-7           [-1, 10]                  35700          \n",
      "Embedding-8           [-1, 10]                  26140          \n",
      "Embedding-9           [-1, 3]                   18             \n",
      "Embedding-10          [-1, 5]                   55             \n",
      "Embedding-11          [-1, 10]                  1400           \n",
      "Embedding-12          [-1, 5]                   135            \n",
      "Embedding-13          [-1, 10]                  8930           \n",
      "Embedding-14          [-1, 10]                  6640           \n",
      "Embedding-15          [-1, 5]                   390            \n",
      "Embedding-16          [-1, 3]                   21             \n",
      "Embedding-17          [-1, 3]                   9              \n",
      "Embedding-18          [-1, 5]                   100            \n",
      "Embedding-19          [-1, 5]                   300            \n",
      "Embedding-20          [-1, 3]                   24             \n",
      "Embedding-21          [-1, 5]                   55             \n",
      "Linear-22             [-1, 100]                 15000          \n",
      "BatchNorm1d-23        [-1, 100]                 200            \n",
      "Dropout-24            [-1, 100]                 0              \n",
      "Linear-25             [-1, 100]                 10100          \n",
      "BatchNorm1d-26        [-1, 100]                 200            \n",
      "Dropout-27            [-1, 100]                 0              \n",
      "Linear-28             [-1, 100]                 10100          \n",
      "BatchNorm1d-29        [-1, 100]                 200            \n",
      "Dropout-30            [-1, 100]                 0              \n",
      "Linear-31             [-1, 100]                 10100          \n",
      "BatchNorm1d-32        [-1, 100]                 200            \n",
      "Dropout-33            [-1, 100]                 0              \n",
      "Linear-34             [-1, 100]                 10100          \n",
      "BatchNorm1d-35        [-1, 100]                 200            \n",
      "Dropout-36            [-1, 100]                 0              \n",
      "Linear-37             [-1, 100]                 10100          \n",
      "BatchNorm1d-38        [-1, 100]                 200            \n",
      "Dropout-39            [-1, 100]                 0              \n",
      "Linear-40             [-1, 500]                 75000          \n",
      "Linear-41             [-1, 149]                 22350          \n",
      "Linear-42             [-1, 1]                   750            \n",
      "Sigmoid-43            [-1, 1]                   0              \n",
      "================================================================\n",
      "Total params: 451802\n",
      "Trainable params: 451802\n",
      "Non-trainable params: 0\n",
      "----------------------------------------------------------------\n"
     ]
    }
   ],
   "source": [
    "np.random.seed(SEED)\n",
    "torch.manual_seed(SEED)\n",
    "model = DeepAndCrossNetwork(embed_list, m_dense, 5, 3, 100, 500).to(device)\n",
    "summary([x_val.shape[1]], model, device)"
   ]
  },
  {
   "cell_type": "code",
   "execution_count": 43,
   "metadata": {},
   "outputs": [
    {
     "name": "stdout",
     "output_type": "stream",
     "text": [
      "Model parameters:\n",
      "criterion:\n",
      "BCELoss()\n",
      "optimizer:\n",
      "Adam (\n",
      "Parameter Group 0\n",
      "    amsgrad: False\n",
      "    betas: (0.9, 0.999)\n",
      "    eps: 1e-08\n",
      "    lr: 0.001\n",
      "    weight_decay: 0.001\n",
      ")\n",
      "epochs: 10\n",
      "batch_size: 16384\n",
      "num_batches: 22\n",
      "MAX_BATCH_SIZE: 32768\n",
      "max number of batches: 11\n",
      "MIN_LR: 0.000010\n"
     ]
    }
   ],
   "source": [
    "criterion = nn.BCELoss(reduction='sum')\n",
    "lr = .001\n",
    "optimizer = optim.Adam(model.parameters(), lr=lr, weight_decay=0.001)\n",
    "# scheduler = optim.lr_scheduler.ReduceLROnPlateau(optimizer, 'min', verbose=True)\n",
    "# optimizer = torch.optim.SGD(model.parameters(), lr=0.01, momentum=1.2)\n",
    "epochs = 10\n",
    "batch_size = 2**14\n",
    "num_batches = int(len(y_train)//batch_size)\n",
    "MAX_BATCH_SIZE = 2**15\n",
    "MIN_LR = 1e-5\n",
    "print(\"Model parameters:\")\n",
    "print(\"criterion:\\n%s\"%str(criterion))\n",
    "print(\"optimizer:\\n%s\"%str(optimizer))\n",
    "print(\"epochs: %d\"%epochs)\n",
    "print(\"batch_size: %d\"%batch_size)\n",
    "print(\"num_batches: %d\"%num_batches)\n",
    "print(\"MAX_BATCH_SIZE: %d\"%MAX_BATCH_SIZE)\n",
    "print(\"max number of batches: %d\"%(int(len(y_train)//MAX_BATCH_SIZE)))\n",
    "print(\"MIN_LR: %f\"%MIN_LR)"
   ]
  },
  {
   "cell_type": "markdown",
   "metadata": {},
   "source": [
    "## Run the model"
   ]
  },
  {
   "cell_type": "code",
   "execution_count": 44,
   "metadata": {},
   "outputs": [
    {
     "name": "stdout",
     "output_type": "stream",
     "text": [
      "start training\n",
      "[==========================>] e:   1/ 10, b:  22/ 22, lr: 0.00100, loss=0.003, val_loss=0.074, auc=0.778, val_cal=0.294, 60.90s\n",
      "[==========================>] e:   2/ 10, b:  22/ 22, lr: 0.00100, loss=0.001, val_loss=0.065, auc=0.820, val_cal=1.171, 62.37s\n",
      "[==========================>] e:   3/ 10, b:  22/ 22, lr: 0.00100, loss=0.001, val_loss=0.061, auc=0.820, val_cal=0.975, 62.52s\n",
      "[==========================>] e:   4/ 10, b:  22/ 22, lr: 0.00100, loss=0.001, val_loss=0.060, auc=0.823, val_cal=1.046, 63.10s\n",
      "[==========================>] e:   5/ 10, b:  22/ 22, lr: 0.00100, loss=0.001, val_loss=0.060, auc=0.825, val_cal=1.047, 63.53s\n",
      "[==========================>] e:   6/ 10, b:  22/ 22, lr: 0.00100, loss=0.000, val_loss=0.059, auc=0.831, val_cal=1.089, 61.66s\n",
      "[==========================>] e:   7/ 10, b:  22/ 22, lr: 0.00100, loss=0.000, val_loss=0.059, auc=0.833, val_cal=1.056, 60.54s\n",
      "[==========================>] e:   8/ 10, b:  22/ 22, lr: 0.00100, loss=0.000, val_loss=0.058, auc=0.837, val_cal=1.078, 61.98s\n",
      "[==========================>] e:   9/ 10, b:  22/ 22, lr: 0.00100, loss=0.000, val_loss=0.058, auc=0.839, val_cal=1.058, 61.49s\n",
      "[==========================>] e:  10/ 10, b:  22/ 22, lr: 0.00080, loss=0.000, val_loss=0.058, auc=0.844, val_cal=1.001, 62.40s\n",
      "Finished Training\n"
     ]
    }
   ],
   "source": [
    "train_loss = 0\n",
    "val_loss = 0\n",
    "mean_val_loss, val_auc, val_cal = [], [], []\n",
    "x_val_sparse = x_val[:,sparse_col]\n",
    "x_val_dense = x_val[:,dense_col]\n",
    "print(\"start training\")\n",
    "l = 27\n",
    "pattern = \"[%%-%ds]\"%l\n",
    "for t in range(epochs):\n",
    "    model.train()\n",
    "    if((t+1)%20==0 and batch_size<=MAX_BATCH_SIZE):\n",
    "        batch_size *= 2**2\n",
    "        num_batches = int(len(y_train)//batch_size)\n",
    "    if((t+1)%10==0 and lr>=MIN_LR):\n",
    "        lr *= 0.8\n",
    "        optimizer = optim.Adam(model.parameters(), lr=lr, weight_decay=0.001)\n",
    "    start_time = time.time()\n",
    "    epochrandvec=torch.randperm(len(y_train))\n",
    "    x_train = x_train[epochrandvec,:]\n",
    "    y_train = y_train[epochrandvec]\n",
    "    w_train = w_train[epochrandvec]\n",
    "    for i in range(num_batches):\n",
    "        \n",
    "        indvec = torch.LongTensor(list(range((i)*batch_size, (i)*batch_size+batch_size)))\n",
    "        x_batch = x_train[indvec]\n",
    "        y_batch = y_train[indvec]\n",
    "        criterion.weight = w_train[indvec]\n",
    "        \n",
    "        x_sparse = x_batch[:,sparse_col]\n",
    "        x_dense = x_batch[:,dense_col]\n",
    "\n",
    "        #initialize\n",
    "        optimizer.zero_grad()\n",
    "        \n",
    "        # forward + backward + optimize\n",
    "        trainOutputs = model(x_batch)\n",
    "        loss = criterion(trainOutputs.squeeze(), y_batch)\n",
    "        train_loss = loss.item()\n",
    "        \n",
    "        #Update Network\n",
    "        loss.backward()\n",
    "        optimizer.step()\n",
    "\n",
    "        #evaluation metrics\n",
    "        with torch.no_grad():\n",
    "            model.eval()\n",
    "            valOutputs = model(x_val)\n",
    "            criterion.weight = w_val\n",
    "            validation = criterion(valOutputs.squeeze(), y_val)\n",
    "            val_loss = validation.item()\n",
    "            mean_val_loss.append(val_loss/x_val.shape[0])\n",
    "            val_auc.append(roc_auc_score(y_val.cpu().data.numpy(), valOutputs.cpu().data.numpy(), sample_weight=w_val))\n",
    "            val_cal.append((valOutputs.squeeze().mul(w_val).sum() / y_val.mul(w_val).sum()).item())\n",
    "        torch.cuda.empty_cache()\n",
    "        sys.stdout.write(\"\\r\" + pattern%('='*(int(i*l/num_batches))+'>') + \" \" +\\\n",
    "                         \"e: %3d/%3d, b: %3d/%3d, lr: %.5f, loss=%.3f, val_loss=%.3f, auc=%.3f, val_cal=%.3f\"%\n",
    "                          (t+1, epochs, i+1, num_batches, lr,\n",
    "                          train_loss/(batch_size*(i+1+t*num_batches)), mean_val_loss[-1], \n",
    "                          val_auc[-1], val_cal[-1]))\n",
    "        sys.stdout.flush()\n",
    "    end_time = time.time()\n",
    "    elapsed = end_time - start_time\n",
    "    sys.stdout.write(\"\\r\")\n",
    "    print(pattern%('='*(l-1)+'>') + \" \" +\\\n",
    "          \"e: %3d/%3d, b: %3d/%3d, lr: %.5f, loss=%.3f, val_loss=%.3f, auc=%.3f, val_cal=%.3f, %.2fs\"%\n",
    "          (t+1, epochs, i+1, num_batches, lr,\n",
    "          train_loss/(batch_size*(i+1+t*num_batches)), mean_val_loss[-1], \n",
    "          val_auc[-1], val_cal[-1], elapsed))\n",
    "    \n",
    "print('Finished Training')"
   ]
  },
  {
   "cell_type": "markdown",
   "metadata": {},
   "source": [
    "## Calculate AUC and calibration metrics\n",
    "### These predictions are done in evaluation mode. Setting the SEED and calling $eval()$ make the evaluation reproducible"
   ]
  },
  {
   "cell_type": "code",
   "execution_count": 45,
   "metadata": {},
   "outputs": [
    {
     "name": "stdout",
     "output_type": "stream",
     "text": [
      "val:\n",
      "number of observations = 120547\n",
      "\tAUC = 0.8454\n",
      "\tCalibration = 0.9737\n",
      "\tctrpm = 12.19\n",
      "test:\n",
      "number of observations = 120547\n",
      "\tAUC = 0.8459\n",
      "\tCalibration = 0.9564\n",
      "\tctrpm = 12.22\n"
     ]
    }
   ],
   "source": [
    "torch.cuda.empty_cache()\n",
    "for data in [[x_val, y_val, w_val, 'val'], [x_test, y_test, w_test, 'test']]:\n",
    "    with torch.no_grad():\n",
    "        model.eval()\n",
    "        torch.manual_seed(SEED)\n",
    "        probs = model(data[0].squeeze())\n",
    "        sample_weight = data[2].cpu().data.numpy()\n",
    "        torch.cuda.empty_cache()\n",
    "        print(data[3]+':')\n",
    "        print(\"number of observations = %d\"%(len(data[1].cpu().data.numpy())))\n",
    "        print(\"\\tAUC = %.4f\"%(roc_auc_score(data[1].cpu().data.numpy(), probs.cpu().data.numpy(), sample_weight=sample_weight)))\n",
    "        print(\"\\tCalibration = %.4f\"%(probs.flatten().dot(data[2])/data[1].dot(data[2]).item()))\n",
    "        print(\"\\tctrpm = %.2f\"%(1000*data[1].dot(data[2])/data[1].shape[0]))"
   ]
  },
  {
   "cell_type": "code",
   "execution_count": 46,
   "metadata": {},
   "outputs": [
    {
     "data": {
      "image/png": "[encoded data removed]",
      "text/plain": [
       "<Figure size 864x648 with 4 Axes>"
      ]
     },
     "metadata": {},
     "output_type": "display_data"
    }
   ],
   "source": [
    "plt.figure(figsize=(12,9))\n",
    "plt.subplot(2,2,1)\n",
    "plt.plot(mean_val_loss, label='validation loss')\n",
    "plt.legend()\n",
    "plt.subplot(2,2,2)\n",
    "with torch.no_grad():\n",
    "    torch.manual_seed(SEED)\n",
    "    probs = model(x_test.squeeze())\n",
    "v = torch.cat([probs.cpu().reshape((probs.shape[0],1)),y_test.cpu().reshape((y_test.shape[0],1))], dim=1).data.numpy()\n",
    "v = v[np.argsort(v[:, 0])[::-1]]\n",
    "means = np.array_split(v, 20)\n",
    "means = np.array([[v[:, 0].mean(), v[:, 1].mean()] for v in means])\n",
    "max_v = np.max(means)+0.002\n",
    "plt.plot(means[:, 1], means[:,0], 'o--g', label='pp plot: p vs actual');\n",
    "plt.plot([0,max_v],[0,max_v],'r--')\n",
    "plt.xlim([0,max_v])\n",
    "plt.ylim([0,max_v])\n",
    "plt.legend()\n",
    "plt.subplot(2,2,3)\n",
    "plt.plot(val_auc, 'k-', label='auc')\n",
    "plt.legend()\n",
    "plt.subplot(2,2,4)\n",
    "plt.plot(val_cal, 'c-', label='calibration')\n",
    "plt.plot([0,len(val_cal)],[1,1], 'r--')\n",
    "plt.ylim([-0.5, 5])\n",
    "plt.legend();\n",
    "plt.tight_layout();"
   ]
  },
  {
   "cell_type": "markdown",
   "metadata": {},
   "source": [
    "## Save model and load it back for inference"
   ]
  },
  {
   "cell_type": "code",
   "execution_count": 47,
   "metadata": {},
   "outputs": [],
   "source": [
    "PATH = 'model.pth'\n",
    "torch.save(model.state_dict(), PATH)"
   ]
  },
  {
   "cell_type": "code",
   "execution_count": 50,
   "metadata": {},
   "outputs": [
    {
     "data": {
      "text/plain": [
       "DeepAndCrossNetwork(\n",
       "  (embedding_layers): ModuleList(\n",
       "    (0): Embedding(642, 10)\n",
       "    (1): Embedding(13, 5)\n",
       "    (2): Embedding(5412, 10)\n",
       "    (3): Embedding(9629, 10)\n",
       "    (4): Embedding(58, 5)\n",
       "    (5): Embedding(4990, 10)\n",
       "    (6): Embedding(3570, 10)\n",
       "    (7): Embedding(2614, 10)\n",
       "    (8): Embedding(6, 3)\n",
       "    (9): Embedding(11, 5)\n",
       "    (10): Embedding(140, 10)\n",
       "    (11): Embedding(27, 5)\n",
       "    (12): Embedding(893, 10)\n",
       "    (13): Embedding(664, 10)\n",
       "    (14): Embedding(78, 5)\n",
       "    (15): Embedding(7, 3)\n",
       "    (16): Embedding(3, 3)\n",
       "    (17): Embedding(20, 5)\n",
       "    (18): Embedding(60, 5)\n",
       "    (19): Embedding(8, 3)\n",
       "    (20): Embedding(11, 5)\n",
       "  )\n",
       "  (fc1): Linear(in_features=149, out_features=100, bias=True)\n",
       "  (bn): BatchNorm1d(100, eps=1e-05, momentum=0.1, affine=True, track_running_stats=True)\n",
       "  (dropout): Dropout(p=0.5)\n",
       "  (dropouts): ModuleList(\n",
       "    (0): Dropout(p=0.5)\n",
       "    (1): Dropout(p=0.5)\n",
       "    (2): Dropout(p=0.5)\n",
       "    (3): Dropout(p=0.5)\n",
       "    (4): Dropout(p=0.5)\n",
       "  )\n",
       "  (bns): ModuleList(\n",
       "    (0): BatchNorm1d(100, eps=1e-05, momentum=0.1, affine=True, track_running_stats=True)\n",
       "    (1): BatchNorm1d(100, eps=1e-05, momentum=0.1, affine=True, track_running_stats=True)\n",
       "    (2): BatchNorm1d(100, eps=1e-05, momentum=0.1, affine=True, track_running_stats=True)\n",
       "    (3): BatchNorm1d(100, eps=1e-05, momentum=0.1, affine=True, track_running_stats=True)\n",
       "    (4): BatchNorm1d(100, eps=1e-05, momentum=0.1, affine=True, track_running_stats=True)\n",
       "  )\n",
       "  (fc2s): ModuleList(\n",
       "    (0): Linear(in_features=100, out_features=100, bias=True)\n",
       "    (1): Linear(in_features=100, out_features=100, bias=True)\n",
       "    (2): Linear(in_features=100, out_features=100, bias=True)\n",
       "    (3): Linear(in_features=100, out_features=100, bias=True)\n",
       "    (4): Linear(in_features=100, out_features=100, bias=True)\n",
       "  )\n",
       "  (linear_with_bias): Linear(in_features=149, out_features=149, bias=True)\n",
       "  (cross_layer_bn): BatchNorm1d(149, eps=1e-05, momentum=0.1, affine=True, track_running_stats=True)\n",
       "  (wide): Linear(in_features=149, out_features=500, bias=True)\n",
       "  (combine): Linear(in_features=749, out_features=1, bias=True)\n",
       "  (output): Sigmoid()\n",
       ")"
      ]
     },
     "execution_count": 50,
     "metadata": {},
     "output_type": "execute_result"
    }
   ],
   "source": [
    "reload_model = DeepAndCrossNetwork(embed_list, m_dense, 5, 1, 100, 500).to(device)\n",
    "reload_model.load_state_dict(torch.load(PATH))\n",
    "reload_model.eval()"
   ]
  },
  {
   "cell_type": "code",
   "execution_count": 51,
   "metadata": {},
   "outputs": [
    {
     "name": "stdout",
     "output_type": "stream",
     "text": [
      "val:\n",
      "number of observations = 120547\n",
      "\tAUC = 0.8454\n",
      "\tCalibration = 0.9737\n",
      "\tctrpm = 12.19\n",
      "test:\n",
      "number of observations = 120547\n",
      "\tAUC = 0.8459\n",
      "\tCalibration = 0.9564\n",
      "\tctrpm = 12.22\n"
     ]
    }
   ],
   "source": [
    "torch.cuda.empty_cache()\n",
    "for data in [[x_val, y_val, w_val, 'val'], [x_test, y_test, w_test, 'test']]:\n",
    "    with torch.no_grad():\n",
    "        reload_model.eval()\n",
    "        torch.manual_seed(SEED)\n",
    "        probs = model(data[0].squeeze())\n",
    "        sample_weight = data[2].cpu().data.numpy()\n",
    "        torch.cuda.empty_cache()\n",
    "        print(data[3]+':')\n",
    "        print(\"number of observations = %d\"%(len(data[1].cpu().data.numpy())))\n",
    "        print(\"\\tAUC = %.4f\"%(roc_auc_score(data[1].cpu().data.numpy(), probs.cpu().data.numpy(), sample_weight=sample_weight)))\n",
    "        print(\"\\tCalibration = %.4f\"%(probs.flatten().dot(data[2])/data[1].dot(data[2]).item()))\n",
    "        print(\"\\tctrpm = %.2f\"%(1000*data[1].dot(data[2])/data[1].shape[0]))"
   ]
  },
  {
   "cell_type": "code",
   "execution_count": null,
   "metadata": {},
   "outputs": [],
   "source": []
  }
 ],
 "metadata": {
  "kernelspec": {
   "display_name": "Python 3",
   "language": "python",
   "name": "python3"
  },
  "language_info": {
   "codemirror_mode": {
    "name": "ipython",
    "version": 3
   },
   "file_extension": ".py",
   "mimetype": "text/x-python",
   "name": "python",
   "nbconvert_exporter": "python",
   "pygments_lexer": "ipython3",
   "version": "3.6.5"
  }
 },
 "nbformat": 4,
 "nbformat_minor": 2
}
