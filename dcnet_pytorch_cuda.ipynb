{
 "cells": [
  {
   "cell_type": "markdown",
   "metadata": {},
   "source": [
    "# Deep and Cross Network\n",
    "## Pytorch implementation based on the paper arxiv.org/abs/1708.05123"
   ]
  },
  {
   "cell_type": "code",
   "execution_count": 1,
   "metadata": {},
   "outputs": [],
   "source": [
    "import yaml\n",
    "import torch\n",
    "import torch.nn as nn\n",
    "import torch.nn.functional as F\n",
    "import pandas as pd\n",
    "import torch.optim as optim\n",
    "from torch.distributions import beta\n",
    "import torch.onnx\n",
    "import numpy as np\n",
    "from sklearn.metrics import roc_auc_score\n",
    "import os\n",
    "import time\n",
    "import sys\n",
    "from torchvision.transforms import *\n",
    "from tqdm import tqdm, tqdm_notebook, tnrange\n",
    "import matplotlib.pyplot as plt\n",
    "\n",
    "from torch_summary import summary\n",
    "SEED = 123\n",
    "np.random.seed(SEED)\n",
    "torch.manual_seed(SEED)\n",
    "\n",
    "%matplotlib inline"
   ]
  },
  {
   "cell_type": "code",
   "execution_count": 2,
   "metadata": {},
   "outputs": [],
   "source": [
    "torch.cuda.is_available()\n",
    "device = torch.device(\"cuda:0\" if torch.cuda.is_available() else \"cpu\")"
   ]
  },
  {
   "cell_type": "code",
   "execution_count": 3,
   "metadata": {},
   "outputs": [],
   "source": [
    "with open(\"config.yml\", 'r') as ymlfile:\n",
    "    cfg = yaml.load(ymlfile)\n",
    "    filename = cfg['filename']\n",
    "    x_col_cat = cfg['features']['categorical']\n",
    "    x_col_bin = cfg['features']['binary']\n",
    "    x_col_num = cfg['features']['numerical']\n",
    "    x_col_cyc = cfg['features']['cyclical']\n",
    "    y_col = cfg['features']['label']\n",
    "    w_col = cfg['features']['weight']"
   ]
  },
  {
   "cell_type": "code",
   "execution_count": 4,
   "metadata": {},
   "outputs": [
    {
     "name": "stdout",
     "output_type": "stream",
     "text": [
      "dataset size: (602733, 30)\n",
      "ctr = 0.00952\n"
     ]
    }
   ],
   "source": [
    "nrows=1e7\n",
    "df = pd.read_csv(filename, nrows=nrows)\n",
    "print(\"dataset size: %s\"%str(df.shape))\n",
    "print(\"ctr = %.5f\"%((df[y_col]*df[w_col]).sum()*1./df[w_col].sum()))"
   ]
  },
  {
   "cell_type": "code",
   "execution_count": 5,
   "metadata": {},
   "outputs": [],
   "source": [
    "def merge_columns(arr):\n",
    "    arr = arr.astype(str)\n",
    "    vals = (arr[:,0].astype(object)+'_'+arr[:,1].astype(object))\n",
    "    for i in range(2, arr.shape[1]):\n",
    "        vals = (vals+'_'+arr[:,i].astype(object))\n",
    "    return vals"
   ]
  },
  {
   "cell_type": "code",
   "execution_count": 6,
   "metadata": {},
   "outputs": [
    {
     "name": "stdout",
     "output_type": "stream",
     "text": [
      "['geo_state', 'geo_country', 'geo_city', 'zip_code', 'category_1', 'domain', 'app_bundle', 'publisher_id', 'device_type', 'device_os', 'device_os_version', 'device_browser', 'device_browser_version', 'carrier', 'language', 'exchange_id', 'banner_type', 'account_campaign', 'account_banner', 'account_advertiser', 'account_offer']\n"
     ]
    }
   ],
   "source": [
    "cat_features = []\n",
    "for f in x_col_cat:\n",
    "    if(isinstance(f, str)==False):\n",
    "        df[list(f.values())[0]] = df[list(f.values())[0]].fillna('unknown')\n",
    "        df[list(f.keys())[0]] = merge_columns(df[list(f.values())[0]].values)\n",
    "        cat_features.append(list(f.keys())[0])\n",
    "    else:\n",
    "        df[f] = df[f].fillna('unknown')\n",
    "        cat_features.append(f)\n",
    "print(cat_features)"
   ]
  },
  {
   "cell_type": "code",
   "execution_count": 7,
   "metadata": {},
   "outputs": [
    {
     "name": "stdout",
     "output_type": "stream",
     "text": [
      "is_interstitial {'No': 0, 'Yes': 1}\n",
      "is_mobile_web_optimized {'No': 0, 'Yes': 1}\n",
      "is_app {'Yes': 0, 'No': 1}\n",
      "['is_interstitial', 'is_mobile_web_optimized', 'is_app']\n"
     ]
    }
   ],
   "source": [
    "binary_features = []\n",
    "for f in x_col_bin:\n",
    "    uniques = df[f].unique()\n",
    "    d = {uniques[0]:0, uniques[1]:1}\n",
    "    df[f] = df[f].map(d)\n",
    "    binary_features.append(f)\n",
    "    print(f, d)\n",
    "print(binary_features)"
   ]
  },
  {
   "cell_type": "code",
   "execution_count": 8,
   "metadata": {},
   "outputs": [
    {
     "name": "stdout",
     "output_type": "stream",
     "text": [
      "user_day_of_week 7\n",
      "user_hour 24\n",
      "['user_day_of_week_sin', 'user_day_of_week_cos', 'user_hour_sin', 'user_hour_cos']\n"
     ]
    }
   ],
   "source": [
    "cyc_features = []\n",
    "for f in x_col_cyc:\n",
    "    nuniques = df[f].nunique()\n",
    "    df[f+'_sin'] = np.sin(df[f]*(2.*np.pi/nuniques))\n",
    "    df[f+'_cos'] = np.cos(df[f]*(2.*np.pi/nuniques))\n",
    "    cyc_features.append(f+'_sin')\n",
    "    cyc_features.append(f+'_cos')\n",
    "    print(f, nuniques)\n",
    "print(cyc_features)"
   ]
  },
  {
   "cell_type": "markdown",
   "metadata": {},
   "source": [
    "### Encoding"
   ]
  },
  {
   "cell_type": "code",
   "execution_count": 9,
   "metadata": {},
   "outputs": [],
   "source": [
    "def binary_encode(s, modulo, required_bits=8):\n",
    "    num = hash(s) % modulo\n",
    "    return np.array(list(np.binary_repr(num).zfill(required_bits))).astype(np.int8)\n",
    "\n",
    "def hashing_trick(s, modulo):\n",
    "    num = hash(s) % modulo\n",
    "    arr = np.zeros((modulo)).astype(np.int8)\n",
    "    arr[num] = 1\n",
    "    return arr\n",
    "\n",
    "def get_sparse_index(s, modulo):\n",
    "    return hash(s) % modulo"
   ]
  },
  {
   "cell_type": "markdown",
   "metadata": {},
   "source": [
    "#### Combine columns"
   ]
  },
  {
   "cell_type": "code",
   "execution_count": 10,
   "metadata": {},
   "outputs": [],
   "source": [
    "df = df[cat_features + binary_features + cyc_features + [y_col] + [w_col]]"
   ]
  },
  {
   "cell_type": "markdown",
   "metadata": {},
   "source": [
    "Here we represent categorical features as sparse index. In production system this encoding can be done by maintaining a map of unique values per feature. A Bloom filter can be used to track each value on the fly by checking whether a specific value exists and update the counters accordingly"
   ]
  },
  {
   "cell_type": "code",
   "execution_count": 11,
   "metadata": {},
   "outputs": [
    {
     "name": "stderr",
     "output_type": "stream",
     "text": [
      "100%|██████████| 21/21 [00:03<00:00,  6.52it/s]"
     ]
    },
    {
     "name": "stdout",
     "output_type": "stream",
     "text": [
      "geo_state 642\n",
      "geo_country 13\n",
      "geo_city 5412\n",
      "zip_code 9629\n",
      "category_1 58\n",
      "domain 4990\n",
      "app_bundle 3570\n",
      "publisher_id 2614\n",
      "device_type 6\n",
      "device_os 11\n",
      "device_os_version 140\n",
      "device_browser 27\n",
      "device_browser_version 893\n",
      "carrier 664\n",
      "language 78\n",
      "exchange_id 7\n",
      "banner_type 3\n",
      "account_campaign 20\n",
      "account_banner 60\n",
      "account_advertiser 8\n",
      "account_offer 11\n"
     ]
    },
    {
     "name": "stderr",
     "output_type": "stream",
     "text": [
      "\n"
     ]
    }
   ],
   "source": [
    "cat_cols = {}\n",
    "column_instance_dict = {}\n",
    "modulos = []\n",
    "for col in tqdm(cat_features):\n",
    "    modulo = df[col].nunique()\n",
    "    cat_cols[col] = modulo\n",
    "    modulos.append(modulo)\n",
    "    column_instance_dict[col] = dict(zip(df[col].unique(), range(len(df[col].unique()))))\n",
    "    df[col] = df[col].map(column_instance_dict[col])\n",
    "for c in cat_features:\n",
    "    print(c, cat_cols[c])"
   ]
  },
  {
   "cell_type": "code",
   "execution_count": 12,
   "metadata": {},
   "outputs": [
    {
     "data": {
      "text/plain": [
       "[[642, 10],\n",
       " [13, 5],\n",
       " [5412, 10],\n",
       " [9629, 10],\n",
       " [58, 5],\n",
       " [4990, 10],\n",
       " [3570, 10],\n",
       " [2614, 10],\n",
       " [6, 3],\n",
       " [11, 5],\n",
       " [140, 10],\n",
       " [27, 5],\n",
       " [893, 10],\n",
       " [664, 10],\n",
       " [78, 5],\n",
       " [7, 3],\n",
       " [3, 3],\n",
       " [20, 5],\n",
       " [60, 5],\n",
       " [8, 3],\n",
       " [11, 5]]"
      ]
     },
     "execution_count": 12,
     "metadata": {},
     "output_type": "execute_result"
    }
   ],
   "source": [
    "embed_list = []\n",
    "for c in cat_cols:\n",
    "    if(cat_cols[c]<=10):\n",
    "        embed_list.append([cat_cols[c], 3])\n",
    "    elif(cat_cols[c]<=100):\n",
    "        embed_list.append([cat_cols[c], 5])\n",
    "    else:\n",
    "        embed_list.append([cat_cols[c], 10])\n",
    "embed_list"
   ]
  },
  {
   "cell_type": "code",
   "execution_count": 13,
   "metadata": {},
   "outputs": [
    {
     "name": "stdout",
     "output_type": "stream",
     "text": [
      "number of x columns: 28\n"
     ]
    }
   ],
   "source": [
    "x_cols = [c for c in df.columns if (c != 'clicks') and (c != 'impressions')]\n",
    "print(\"number of x columns: %d\"%(len(x_cols)))"
   ]
  },
  {
   "cell_type": "code",
   "execution_count": 14,
   "metadata": {},
   "outputs": [
    {
     "name": "stdout",
     "output_type": "stream",
     "text": [
      "x_dense: (602733, 7) x_sparse: (602733, 21) y: (602733,) w: (602733,)\n"
     ]
    }
   ],
   "source": [
    "x_sparse = df[x_cols[:len(cat_features)]].values\n",
    "x_dense = df[x_cols[len(cat_features):]].values\n",
    "x = np.concatenate([x_sparse, x_dense], axis=1)\n",
    "y, w = np.array(df[y_col]), np.array(df[w_col])\n",
    "print(\"x_dense: %s x_sparse: %s y: %s w: %s\"%(x_dense.shape, x_sparse.shape, y.shape, w.shape))\n",
    "del df"
   ]
  },
  {
   "cell_type": "markdown",
   "metadata": {},
   "source": [
    "### Prepare data for pytorch and split"
   ]
  },
  {
   "cell_type": "code",
   "execution_count": 15,
   "metadata": {},
   "outputs": [],
   "source": [
    "x = torch.FloatTensor(x).to(device)\n",
    "y = torch.FloatTensor(y).to(device)\n",
    "w = torch.FloatTensor(w).to(device)"
   ]
  },
  {
   "cell_type": "code",
   "execution_count": 16,
   "metadata": {},
   "outputs": [
    {
     "name": "stdout",
     "output_type": "stream",
     "text": [
      "num obs train 361639\n",
      "num obs val 120547\n",
      "num obs test 120547\n"
     ]
    }
   ],
   "source": [
    "n, m = x.shape\n",
    "randvec = torch.randperm(n)\n",
    "x_train, x_val = torch.split(x[randvec],(n*3)//5, 0)\n",
    "y_train, y_val = torch.split(y[randvec],(n*3)//5, 0)\n",
    "w_train, w_val = torch.split(w[randvec],(n*3)//5, 0)\n",
    "\n",
    "n_val = x_val.shape[0]\n",
    "randvec_val = torch.randperm(n_val)\n",
    "x_val, x_test = torch.split(x_val[randvec_val],n_val//2, 0)\n",
    "y_val, y_test = torch.split(y_val[randvec_val],n_val//2, 0)\n",
    "w_val, w_test = torch.split(w_val[randvec_val],n_val//2, 0)\n",
    "\n",
    "print(\"num obs train %d\\nnum obs val %d\\nnum obs test %d\"%(x_train.shape[0], x_val.shape[0], x_test.shape[0]))"
   ]
  },
  {
   "cell_type": "markdown",
   "metadata": {},
   "source": [
    "## Build Model"
   ]
  },
  {
   "cell_type": "markdown",
   "metadata": {},
   "source": [
    "### Define Hyperparameters"
   ]
  },
  {
   "cell_type": "code",
   "execution_count": 17,
   "metadata": {},
   "outputs": [
    {
     "name": "stdout",
     "output_type": "stream",
     "text": [
      "num of sparse cols: 21\n",
      "num of dense cols: 7\n"
     ]
    }
   ],
   "source": [
    "sparse_col = torch.LongTensor(list(range(0, len(cat_features))))\n",
    "dense_col = torch.LongTensor(list(range(len(cat_features), m)))\n",
    "m_sparse = sparse_col.size()[0]\n",
    "m_dense = dense_col.size()[0]\n",
    "print(\"num of sparse cols: %d\\nnum of dense cols: %d\"%(m_sparse, m_dense))"
   ]
  },
  {
   "cell_type": "markdown",
   "metadata": {},
   "source": [
    "### Define Network layers"
   ]
  },
  {
   "cell_type": "code",
   "execution_count": 18,
   "metadata": {},
   "outputs": [],
   "source": [
    "class Cross(nn.Module):\n",
    "    def __init__(self, output_features, x0):\n",
    "        super(Cross, self).__init__()\n",
    "        self.output_features = output_features\n",
    "        self.x0 = x0\n",
    "\n",
    "        self.weight = nn.Parameter(torch.cuda.FloatTensor(output_features, 1))\n",
    "        self.bias = nn.Parameter(torch.cuda.FloatTensor(1, output_features))\n",
    "\n",
    "        self.weight.data.uniform_(-0.1, 0.1)\n",
    "        self.bias.data.uniform_(-0.1, 0.1)\n",
    "\n",
    "    def forward(self, input):\n",
    "        x_w = input.mm(self.weight).unsqueeze_(-1)\n",
    "        x0T = self.x0.clone().unsqueeze_(-1).permute([0,2,1])\n",
    "        f = torch.bmm(x_w, x0T).squeeze()\n",
    "        output = f + self.bias + input\n",
    "        return output\n",
    "\n",
    "    def extra_repr(self):\n",
    "        return 'in_features={}, out_features={}, bias={}'.format(\n",
    "            self.in_features, self.out_features, self.bias\n",
    "        )\n"
   ]
  },
  {
   "cell_type": "code",
   "execution_count": 19,
   "metadata": {},
   "outputs": [],
   "source": [
    "class fullDCN(nn.Module):\n",
    "    def __init__(self, embedding_list, dense_size, num_deep_layers, num_cross_layers, d_units, w_units):\n",
    "        super().__init__()\n",
    "        self.embedding_layers = nn.ModuleList()\n",
    "        self.num_dls = num_deep_layers\n",
    "        self.num_cls = num_cross_layers\n",
    "        lst = [nn.Embedding(num_embeddings=feature[0], embedding_dim=feature[1]) for feature in embedding_list]\n",
    "        self.embedding_layers.extend(lst)\n",
    "        embedding_size = sum([feature[1] for feature in embedding_list])\n",
    "        \n",
    "        self.cross_layer_size = dense_size + embedding_size\n",
    "        \n",
    "         #deep network layers\n",
    "        self.fc1 = nn.Linear(self.cross_layer_size, d_units, bias=True)\n",
    "        self.fc_bn = nn.BatchNorm1d(d_units)\n",
    "        self.fc2 = nn.Linear(d_units, d_units, bias=True)\n",
    "        self.dropout = nn.Dropout(p=0.5)\n",
    "        \n",
    "        #cross network layers\n",
    "        self.linear_with_bias = nn.Linear(self.cross_layer_size, self.cross_layer_size, bias=True)\n",
    "        self.cross_layer_bn = nn.BatchNorm1d(self.cross_layer_size)\n",
    "        \n",
    "        #wide network layers\n",
    "        self.wide = nn.Linear(self.cross_layer_size, w_units, bias=True)\n",
    "        \n",
    "        #combination layer\n",
    "        self.CombLayer = nn.Linear(d_units+w_units+self.cross_layer_size, 1, bias=True)\n",
    "        \n",
    "        #output\n",
    "        self.output = nn.Sigmoid()\n",
    "\n",
    "    def forward(self, x):\n",
    "        x_sparse = x[:,sparse_col].long()\n",
    "        x_dense = x[:,dense_col]\n",
    "        embedding_tensor = torch.cat([self.embedding_layers[sparse_feature](x_sparse[:, sparse_feature]) for sparse_feature in range(m_sparse)], dim=1)\n",
    "        x0 = torch.cat([embedding_tensor, x_dense], dim=1)\n",
    "        x_dl = F.relu(self.dropout(self.fc_bn(self.fc1(x0))))\n",
    "        for _ in range(self.num_dls):\n",
    "            x_dl = self.dropout(self.fc_bn(self.fc2(x_dl)))\n",
    "        \n",
    "        x_wl = self.wide(x0)\n",
    "        \n",
    "        x_cl = self.linear_with_bias(x0)\n",
    "        for _ in range(self.num_cls):\n",
    "            x_cl = Cross(self.cross_layer_size, x0)(x_cl)\n",
    "        \n",
    "        x_final = torch.cat([x_dl, x_wl, x_cl], dim=1)\n",
    "        result = self.CombLayer(x_final)\n",
    "        y = self.output(result)\n",
    "        return y"
   ]
  },
  {
   "cell_type": "markdown",
   "metadata": {},
   "source": [
    "### Define Model parameters"
   ]
  },
  {
   "cell_type": "code",
   "execution_count": 151,
   "metadata": {},
   "outputs": [
    {
     "name": "stdout",
     "output_type": "stream",
     "text": [
      "----------------------------------------------------------------\n",
      "Layer (type)          Output Shpae              Param #        \n",
      "================================================================\n",
      "Embedding-1           [-1, 10]                  6420           \n",
      "Embedding-2           [-1, 5]                   65             \n",
      "Embedding-3           [-1, 10]                  54120          \n",
      "Embedding-4           [-1, 10]                  96290          \n",
      "Embedding-5           [-1, 5]                   290            \n",
      "Embedding-6           [-1, 10]                  49900          \n",
      "Embedding-7           [-1, 10]                  35700          \n",
      "Embedding-8           [-1, 10]                  26140          \n",
      "Embedding-9           [-1, 3]                   18             \n",
      "Embedding-10          [-1, 5]                   55             \n",
      "Embedding-11          [-1, 10]                  1400           \n",
      "Embedding-12          [-1, 5]                   135            \n",
      "Embedding-13          [-1, 10]                  8930           \n",
      "Embedding-14          [-1, 10]                  6640           \n",
      "Embedding-15          [-1, 5]                   390            \n",
      "Embedding-16          [-1, 3]                   21             \n",
      "Embedding-17          [-1, 3]                   9              \n",
      "Embedding-18          [-1, 5]                   100            \n",
      "Embedding-19          [-1, 5]                   300            \n",
      "Embedding-20          [-1, 3]                   24             \n",
      "Embedding-21          [-1, 5]                   55             \n",
      "Linear-22             [-1, 100]                 15000          \n",
      "BatchNorm1d-23        [-1, 100]                 200            \n",
      "Dropout-24            [-1, 100]                 0              \n",
      "Linear-25             [-1, 100]                 10100          \n",
      "BatchNorm1d-26        [-1, 100]                 200            \n",
      "Dropout-27            [-1, 100]                 0              \n",
      "Linear-28             [-1, 100]                 10100          \n",
      "BatchNorm1d-29        [-1, 100]                 200            \n",
      "Dropout-30            [-1, 100]                 0              \n",
      "Linear-31             [-1, 100]                 10100          \n",
      "BatchNorm1d-32        [-1, 100]                 200            \n",
      "Dropout-33            [-1, 100]                 0              \n",
      "Linear-34             [-1, 100]                 10100          \n",
      "BatchNorm1d-35        [-1, 100]                 200            \n",
      "Dropout-36            [-1, 100]                 0              \n",
      "Linear-37             [-1, 100]                 10100          \n",
      "BatchNorm1d-38        [-1, 100]                 200            \n",
      "Dropout-39            [-1, 100]                 0              \n",
      "Linear-40             [-1, 500]                 75000          \n",
      "Linear-41             [-1, 149]                 22350          \n",
      "Linear-42             [-1, 1]                   750            \n",
      "Sigmoid-43            [-1, 1]                   0              \n",
      "================================================================\n",
      "Total params: 451802\n",
      "Trainable params: 451802\n",
      "Non-trainable params: 0\n",
      "----------------------------------------------------------------\n"
     ]
    }
   ],
   "source": [
    "np.random.seed(SEED)\n",
    "torch.manual_seed(SEED)\n",
    "DCNnet = fullDCN(embedding_list=embed_list,\n",
    "                 dense_size=m_dense, \n",
    "                 num_deep_layers=5, \n",
    "                 num_cross_layers=1, \n",
    "                 d_units=100, \n",
    "                 w_units=500).to(device)\n",
    "summary([x_val.shape[1]], DCNnet, device)"
   ]
  },
  {
   "cell_type": "code",
   "execution_count": 152,
   "metadata": {},
   "outputs": [
    {
     "name": "stdout",
     "output_type": "stream",
     "text": [
      "Model parameters:\n",
      "criterion:\n",
      "BCELoss()\n",
      "optimizer:\n",
      "Adam (\n",
      "Parameter Group 0\n",
      "    amsgrad: False\n",
      "    betas: (0.9, 0.999)\n",
      "    eps: 1e-08\n",
      "    lr: 0.01\n",
      "    weight_decay: 0.001\n",
      ")\n",
      "epochs: 100\n",
      "batch_size: 4096\n",
      "num_batches: 88\n",
      "MAX_BATCH_SIZE: 32768\n",
      "max number of batches: 11\n",
      "MIN_LR: 0.000010\n"
     ]
    }
   ],
   "source": [
    "criterion = nn.BCELoss()\n",
    "lr = .01\n",
    "optimizer = optim.Adam(DCNnet.parameters(), lr=lr, weight_decay=0.001)\n",
    "# scheduler = optim.lr_scheduler.ReduceLROnPlateau(optimizer, 'min', verbose=True)\n",
    "# optimizer = torch.optim.SGD(DCNnet.parameters(), lr=0.01, momentum=1.2)\n",
    "epochs = 100\n",
    "batch_size = 2**12\n",
    "num_batches = int(len(y_train)//batch_size)\n",
    "MAX_BATCH_SIZE = 2**15\n",
    "MIN_LR = 1e-5\n",
    "print(\"Model parameters:\")\n",
    "print(\"criterion:\\n%s\"%str(criterion))\n",
    "print(\"optimizer:\\n%s\"%str(optimizer))\n",
    "print(\"epochs: %d\"%epochs)\n",
    "print(\"batch_size: %d\"%batch_size)\n",
    "print(\"num_batches: %d\"%num_batches)\n",
    "print(\"MAX_BATCH_SIZE: %d\"%MAX_BATCH_SIZE)\n",
    "print(\"max number of batches: %d\"%(int(len(y_train)//MAX_BATCH_SIZE)))\n",
    "print(\"MIN_LR: %f\"%MIN_LR)"
   ]
  },
  {
   "cell_type": "markdown",
   "metadata": {},
   "source": [
    "## Run the model"
   ]
  },
  {
   "cell_type": "code",
   "execution_count": 153,
   "metadata": {},
   "outputs": [
    {
     "name": "stdout",
     "output_type": "stream",
     "text": [
      "start training\n",
      "[==========================>] e:   1/100, b:  88/ 88, lr: 0.01000, loss=0.154, val_loss=0.636, auc=0.833, val_cal=1.009, 12.63s\n",
      "[==========================>] e:   2/100, b:  88/ 88, lr: 0.01000, loss=0.093, val_loss=0.562, auc=0.835, val_cal=0.817, 12.72s\n",
      "[==========================>] e:   3/100, b:  88/ 88, lr: 0.01000, loss=0.051, val_loss=0.537, auc=0.835, val_cal=1.169, 12.77s\n",
      "[==========================>] e:   4/100, b:  88/ 88, lr: 0.01000, loss=0.043, val_loss=0.524, auc=0.835, val_cal=0.920, 12.77s\n",
      "[==========================>] e:   5/100, b:  88/ 88, lr: 0.01000, loss=0.027, val_loss=0.516, auc=0.840, val_cal=1.295, 12.78s\n",
      "[==========================>] e:   6/100, b:  88/ 88, lr: 0.01000, loss=0.023, val_loss=0.511, auc=0.843, val_cal=1.105, 12.81s\n",
      "[==========================>] e:   7/100, b:  88/ 88, lr: 0.01000, loss=0.022, val_loss=0.507, auc=0.839, val_cal=1.142, 12.82s\n",
      "[==========================>] e:   8/100, b:  88/ 88, lr: 0.01000, loss=0.022, val_loss=0.504, auc=0.842, val_cal=1.119, 12.82s\n",
      "[==========================>] e:   9/100, b:  88/ 88, lr: 0.01000, loss=0.020, val_loss=0.502, auc=0.831, val_cal=1.208, 12.81s\n",
      "[==========================>] e:  10/100, b:  88/ 88, lr: 0.00800, loss=0.016, val_loss=0.500, auc=0.844, val_cal=1.433, 12.82s\n",
      "[==========================>] e:  11/100, b:  88/ 88, lr: 0.00800, loss=0.013, val_loss=0.499, auc=0.839, val_cal=0.885, 12.81s\n",
      "[==========================>] e:  12/100, b:  88/ 88, lr: 0.00800, loss=0.014, val_loss=0.497, auc=0.841, val_cal=1.108, 12.83s\n",
      "[==========================>] e:  13/100, b:  88/ 88, lr: 0.00800, loss=0.010, val_loss=0.496, auc=0.846, val_cal=0.913, 12.80s\n",
      "[==========================>] e:  14/100, b:  88/ 88, lr: 0.00800, loss=0.013, val_loss=0.495, auc=0.839, val_cal=1.072, 12.81s\n",
      "[==========================>] e:  15/100, b:  88/ 88, lr: 0.00800, loss=0.012, val_loss=0.494, auc=0.837, val_cal=0.929, 12.79s\n",
      "[==========================>] e:  16/100, b:  88/ 88, lr: 0.00800, loss=0.010, val_loss=0.494, auc=0.846, val_cal=1.162, 12.89s\n",
      "[==========================>] e:  17/100, b:  88/ 88, lr: 0.00800, loss=0.008, val_loss=0.493, auc=0.848, val_cal=1.106, 12.85s\n",
      "[==========================>] e:  18/100, b:  88/ 88, lr: 0.00800, loss=0.009, val_loss=0.492, auc=0.842, val_cal=0.954, 12.86s\n",
      "[==========================>] e:  19/100, b:  88/ 88, lr: 0.00800, loss=0.007, val_loss=0.492, auc=0.844, val_cal=0.920, 12.84s\n",
      "[==========================>] e:  20/100, b:  22/ 22, lr: 0.00640, loss=0.008, val_loss=1.892, auc=0.845, val_cal=1.058, 4.93s\n",
      "[==========================>] e:  21/100, b:  22/ 22, lr: 0.00640, loss=0.008, val_loss=1.825, auc=0.847, val_cal=1.146, 4.88s\n",
      "[==========================>] e:  22/100, b:  22/ 22, lr: 0.00640, loss=0.007, val_loss=1.764, auc=0.846, val_cal=1.059, 4.88s\n",
      "[==========================>] e:  23/100, b:  22/ 22, lr: 0.00640, loss=0.007, val_loss=1.708, auc=0.849, val_cal=1.336, 4.87s\n",
      "[==========================>] e:  24/100, b:  22/ 22, lr: 0.00640, loss=0.007, val_loss=1.656, auc=0.848, val_cal=1.159, 4.90s\n",
      "[==========================>] e:  25/100, b:  22/ 22, lr: 0.00640, loss=0.007, val_loss=1.609, auc=0.850, val_cal=1.185, 4.87s\n",
      "[==========================>] e:  26/100, b:  22/ 22, lr: 0.00640, loss=0.005, val_loss=1.566, auc=0.849, val_cal=0.988, 4.88s\n",
      "[==========================>] e:  27/100, b:  22/ 22, lr: 0.00640, loss=0.006, val_loss=1.526, auc=0.849, val_cal=1.007, 4.93s\n",
      "[==========================>] e:  28/100, b:  22/ 22, lr: 0.00640, loss=0.006, val_loss=1.488, auc=0.846, val_cal=0.939, 4.88s\n",
      "[==========================>] e:  29/100, b:  22/ 22, lr: 0.00640, loss=0.005, val_loss=1.453, auc=0.847, val_cal=1.087, 4.89s\n",
      "[==========================>] e:  30/100, b:  22/ 22, lr: 0.00512, loss=0.005, val_loss=1.421, auc=0.848, val_cal=1.164, 4.87s\n",
      "[==========================>] e:  31/100, b:  22/ 22, lr: 0.00512, loss=0.005, val_loss=1.391, auc=0.850, val_cal=1.028, 4.86s\n",
      "[==========================>] e:  32/100, b:  22/ 22, lr: 0.00512, loss=0.005, val_loss=1.362, auc=0.848, val_cal=0.937, 4.90s\n",
      "[==========================>] e:  33/100, b:  22/ 22, lr: 0.00512, loss=0.005, val_loss=1.335, auc=0.847, val_cal=1.008, 4.88s\n",
      "[==========================>] e:  34/100, b:  22/ 22, lr: 0.00512, loss=0.005, val_loss=1.310, auc=0.850, val_cal=1.148, 4.91s\n",
      "[==========================>] e:  35/100, b:  22/ 22, lr: 0.00512, loss=0.004, val_loss=1.286, auc=0.851, val_cal=1.087, 4.85s\n",
      "[==========================>] e:  36/100, b:  22/ 22, lr: 0.00512, loss=0.004, val_loss=1.264, auc=0.851, val_cal=1.123, 4.86s\n",
      "[==========================>] e:  37/100, b:  22/ 22, lr: 0.00512, loss=0.004, val_loss=1.243, auc=0.850, val_cal=1.212, 4.86s\n",
      "[==========================>] e:  38/100, b:  22/ 22, lr: 0.00512, loss=0.004, val_loss=1.222, auc=0.851, val_cal=1.122, 4.89s\n",
      "[==========================>] e:  39/100, b:  22/ 22, lr: 0.00512, loss=0.004, val_loss=1.203, auc=0.851, val_cal=1.052, 4.87s\n",
      "[==========================>] e:  40/100, b:   5/  5, lr: 0.00410, loss=0.004, val_loss=5.174, auc=0.850, val_cal=0.926, 2.59s\n",
      "[==========================>] e:  41/100, b:   5/  5, lr: 0.00410, loss=0.004, val_loss=5.060, auc=0.850, val_cal=1.079, 2.61s\n",
      "[==========================>] e:  42/100, b:   5/  5, lr: 0.00410, loss=0.004, val_loss=4.951, auc=0.850, val_cal=1.017, 2.61s\n",
      "[==========================>] e:  43/100, b:   5/  5, lr: 0.00410, loss=0.004, val_loss=4.847, auc=0.850, val_cal=1.049, 2.61s\n",
      "[==========================>] e:  44/100, b:   5/  5, lr: 0.00410, loss=0.004, val_loss=4.747, auc=0.851, val_cal=1.088, 2.61s\n",
      "[==========================>] e:  45/100, b:   5/  5, lr: 0.00410, loss=0.004, val_loss=4.652, auc=0.849, val_cal=1.107, 2.62s\n",
      "[==========================>] e:  46/100, b:   5/  5, lr: 0.00410, loss=0.004, val_loss=4.562, auc=0.851, val_cal=1.030, 2.62s\n",
      "[==========================>] e:  47/100, b:   5/  5, lr: 0.00410, loss=0.004, val_loss=4.475, auc=0.850, val_cal=1.087, 2.61s\n",
      "[==========================>] e:  48/100, b:   5/  5, lr: 0.00410, loss=0.004, val_loss=4.391, auc=0.850, val_cal=0.974, 2.61s\n",
      "[==========================>] e:  49/100, b:   5/  5, lr: 0.00410, loss=0.004, val_loss=4.312, auc=0.851, val_cal=1.021, 2.61s\n",
      "[==========================>] e:  50/100, b:   5/  5, lr: 0.00328, loss=0.003, val_loss=4.235, auc=0.849, val_cal=0.909, 2.62s\n",
      "[==========================>] e:  51/100, b:   5/  5, lr: 0.00328, loss=0.003, val_loss=4.161, auc=0.849, val_cal=1.044, 2.61s\n",
      "[==========================>] e:  52/100, b:   5/  5, lr: 0.00328, loss=0.003, val_loss=4.090, auc=0.850, val_cal=1.016, 2.62s\n",
      "[==========================>] e:  53/100, b:   5/  5, lr: 0.00328, loss=0.003, val_loss=4.022, auc=0.850, val_cal=1.085, 2.61s\n",
      "[==========================>] e:  54/100, b:   5/  5, lr: 0.00328, loss=0.003, val_loss=3.957, auc=0.850, val_cal=1.005, 2.62s\n",
      "[==========================>] e:  55/100, b:   5/  5, lr: 0.00328, loss=0.003, val_loss=3.893, auc=0.850, val_cal=0.934, 2.62s\n",
      "[==========================>] e:  56/100, b:   5/  5, lr: 0.00328, loss=0.003, val_loss=3.832, auc=0.851, val_cal=1.046, 2.61s\n",
      "[==========================>] e:  57/100, b:   5/  5, lr: 0.00328, loss=0.003, val_loss=3.773, auc=0.850, val_cal=0.987, 2.62s\n",
      "[==========================>] e:  58/100, b:   5/  5, lr: 0.00328, loss=0.003, val_loss=3.717, auc=0.850, val_cal=1.083, 2.62s\n",
      "[==========================>] e:  59/100, b:   5/  5, lr: 0.00328, loss=0.003, val_loss=3.662, auc=0.851, val_cal=1.140, 2.62s\n",
      "[==========================>] e:  60/100, b:   5/  5, lr: 0.00262, loss=0.003, val_loss=3.609, auc=0.849, val_cal=1.194, 2.61s\n",
      "[==========================>] e:  61/100, b:   5/  5, lr: 0.00262, loss=0.003, val_loss=3.557, auc=0.849, val_cal=1.036, 2.62s\n",
      "[==========================>] e:  62/100, b:   5/  5, lr: 0.00262, loss=0.003, val_loss=3.508, auc=0.851, val_cal=1.067, 2.62s\n",
      "[==========================>] e:  63/100, b:   5/  5, lr: 0.00262, loss=0.003, val_loss=3.460, auc=0.851, val_cal=1.061, 2.62s\n",
      "[==========================>] e:  64/100, b:   5/  5, lr: 0.00262, loss=0.003, val_loss=3.413, auc=0.850, val_cal=0.996, 2.62s\n",
      "[==========================>] e:  65/100, b:   5/  5, lr: 0.00262, loss=0.003, val_loss=3.368, auc=0.850, val_cal=1.043, 2.61s\n",
      "[==========================>] e:  66/100, b:   5/  5, lr: 0.00262, loss=0.003, val_loss=3.324, auc=0.850, val_cal=0.990, 2.62s\n",
      "[==========================>] e:  67/100, b:   5/  5, lr: 0.00262, loss=0.003, val_loss=3.281, auc=0.851, val_cal=1.116, 2.62s\n",
      "[==========================>] e:  68/100, b:   5/  5, lr: 0.00262, loss=0.002, val_loss=3.240, auc=0.851, val_cal=1.079, 2.62s\n",
      "[==========================>] e:  69/100, b:   5/  5, lr: 0.00262, loss=0.002, val_loss=3.200, auc=0.850, val_cal=1.042, 2.62s\n",
      "[==========================>] e:  70/100, b:   5/  5, lr: 0.00210, loss=0.003, val_loss=3.161, auc=0.850, val_cal=0.917, 2.61s\n",
      "[==========================>] e:  71/100, b:   5/  5, lr: 0.00210, loss=0.002, val_loss=3.123, auc=0.850, val_cal=1.056, 2.62s\n",
      "[==========================>] e:  72/100, b:   5/  5, lr: 0.00210, loss=0.002, val_loss=3.087, auc=0.850, val_cal=1.023, 2.62s\n",
      "[==========================>] e:  73/100, b:   5/  5, lr: 0.00210, loss=0.002, val_loss=3.051, auc=0.850, val_cal=0.960, 2.62s\n",
      "[==========================>] e:  74/100, b:   5/  5, lr: 0.00210, loss=0.002, val_loss=3.016, auc=0.851, val_cal=1.058, 2.61s\n",
      "[==========================>] e:  75/100, b:   5/  5, lr: 0.00210, loss=0.002, val_loss=2.982, auc=0.851, val_cal=1.112, 2.62s\n",
      "[==========================>] e:  76/100, b:   5/  5, lr: 0.00210, loss=0.002, val_loss=2.949, auc=0.850, val_cal=1.041, 2.61s\n",
      "[==========================>] e:  77/100, b:   5/  5, lr: 0.00210, loss=0.002, val_loss=2.917, auc=0.850, val_cal=1.145, 2.62s\n",
      "[==========================>] e:  78/100, b:   5/  5, lr: 0.00210, loss=0.002, val_loss=2.886, auc=0.850, val_cal=0.967, 2.62s\n",
      "[==========================>] e:  79/100, b:   5/  5, lr: 0.00210, loss=0.002, val_loss=2.855, auc=0.850, val_cal=1.063, 2.62s\n",
      "[==========================>] e:  80/100, b:   5/  5, lr: 0.00168, loss=0.002, val_loss=2.826, auc=0.851, val_cal=1.089, 2.61s\n",
      "[==========================>] e:  81/100, b:   5/  5, lr: 0.00168, loss=0.002, val_loss=2.797, auc=0.851, val_cal=1.077, 2.61s\n",
      "[==========================>] e:  82/100, b:   5/  5, lr: 0.00168, loss=0.002, val_loss=2.768, auc=0.850, val_cal=1.044, 2.61s\n",
      "[==========================>] e:  83/100, b:   5/  5, lr: 0.00168, loss=0.002, val_loss=2.741, auc=0.850, val_cal=1.014, 2.62s\n",
      "[==========================>] e:  84/100, b:   5/  5, lr: 0.00168, loss=0.002, val_loss=2.714, auc=0.851, val_cal=1.095, 2.62s\n",
      "[==========================>] e:  85/100, b:   5/  5, lr: 0.00168, loss=0.002, val_loss=2.688, auc=0.851, val_cal=1.061, 2.62s\n",
      "[==========================>] e:  86/100, b:   5/  5, lr: 0.00168, loss=0.002, val_loss=2.662, auc=0.851, val_cal=1.018, 2.61s\n",
      "[==========================>] e:  87/100, b:   5/  5, lr: 0.00168, loss=0.002, val_loss=2.637, auc=0.851, val_cal=1.127, 2.62s\n",
      "[==========================>] e:  88/100, b:   5/  5, lr: 0.00168, loss=0.002, val_loss=2.612, auc=0.851, val_cal=1.114, 2.61s\n",
      "[==========================>] e:  89/100, b:   5/  5, lr: 0.00168, loss=0.002, val_loss=2.588, auc=0.850, val_cal=1.092, 2.62s\n",
      "[==========================>] e:  90/100, b:   5/  5, lr: 0.00134, loss=0.002, val_loss=2.565, auc=0.850, val_cal=1.168, 2.61s\n",
      "[==========================>] e:  91/100, b:   5/  5, lr: 0.00134, loss=0.002, val_loss=2.542, auc=0.851, val_cal=1.038, 2.62s\n",
      "[==========================>] e:  92/100, b:   5/  5, lr: 0.00134, loss=0.002, val_loss=2.519, auc=0.851, val_cal=1.035, 2.61s\n",
      "[==========================>] e:  93/100, b:   5/  5, lr: 0.00134, loss=0.002, val_loss=2.497, auc=0.850, val_cal=1.045, 2.62s\n",
      "[==========================>] e:  94/100, b:   5/  5, lr: 0.00134, loss=0.002, val_loss=2.476, auc=0.850, val_cal=1.110, 2.61s\n",
      "[==========================>] e:  95/100, b:   5/  5, lr: 0.00134, loss=0.002, val_loss=2.455, auc=0.851, val_cal=1.072, 2.62s\n",
      "[==========================>] e:  96/100, b:   5/  5, lr: 0.00134, loss=0.002, val_loss=2.434, auc=0.851, val_cal=1.100, 2.62s\n",
      "[==========================>] e:  97/100, b:   5/  5, lr: 0.00134, loss=0.002, val_loss=2.414, auc=0.851, val_cal=1.117, 2.62s\n",
      "[==========================>] e:  98/100, b:   5/  5, lr: 0.00134, loss=0.002, val_loss=2.394, auc=0.850, val_cal=1.004, 2.61s\n",
      "[==========================>] e:  99/100, b:   5/  5, lr: 0.00134, loss=0.002, val_loss=2.375, auc=0.850, val_cal=1.079, 2.62s\n",
      "[==========================>] e: 100/100, b:   5/  5, lr: 0.00107, loss=0.002, val_loss=2.356, auc=0.851, val_cal=1.054, 2.61s\n",
      "Finished Training\n"
     ]
    }
   ],
   "source": [
    "train_loss = 0\n",
    "val_loss = 0\n",
    "scale = 10e5\n",
    "mean_val_loss, val_auc, val_cal = [], [], []\n",
    "x_val_sparse = x_val[:,sparse_col]\n",
    "x_val_dense = x_val[:,dense_col]\n",
    "print(\"start training\")\n",
    "l = 27\n",
    "pattern = \"[%%-%ds]\"%l\n",
    "for t in range(epochs):\n",
    "    if((t+1)%20==0 and batch_size<=MAX_BATCH_SIZE):\n",
    "        batch_size *= 2**2\n",
    "        num_batches = int(len(y_train)//batch_size)\n",
    "    if((t+1)%10==0 and lr>=MIN_LR):\n",
    "        lr *= 0.8\n",
    "        optimizer = optim.Adam(DCNnet.parameters(), lr=lr, weight_decay=0.001)\n",
    "    start_time = time.time()\n",
    "    epochrandvec=torch.randperm(len(y_train))\n",
    "    x_train = x_train[epochrandvec,:]\n",
    "    y_train = y_train[epochrandvec]\n",
    "    w_train = w_train[epochrandvec]\n",
    "    for i in range(num_batches):\n",
    "        \n",
    "        indvec = torch.LongTensor(list(range((i)*batch_size, (i)*batch_size+batch_size)))\n",
    "        x_batch = x_train[indvec]\n",
    "        y_batch = y_train[indvec]\n",
    "        criterion.weight = w_train[indvec]\n",
    "        \n",
    "        x_sparse = x_batch[:,sparse_col]\n",
    "        x_dense = x_batch[:,dense_col]\n",
    "\n",
    "        #initialize\n",
    "        optimizer.zero_grad()\n",
    "        \n",
    "        # forward + backward + optimize\n",
    "        trainOutputs = DCNnet(x_batch)\n",
    "        loss = criterion(trainOutputs.squeeze(), y_batch)\n",
    "        train_loss = scale*loss.item()\n",
    "        \n",
    "        #Update Network\n",
    "        loss.backward()\n",
    "        optimizer.step()\n",
    "\n",
    "        #evaluation metrics\n",
    "        #this is NOT done in evaluation mode, hence, not determnistic results\n",
    "        with torch.no_grad():\n",
    "            valOutputs = DCNnet(x_val)\n",
    "            criterion.weight = w_val\n",
    "            validation = criterion(valOutputs.squeeze(), y_val)\n",
    "            val_loss += scale*validation.item()\n",
    "            mean_val_loss.append(val_loss/((i+1+t*num_batches)*x_val.shape[0]))\n",
    "            val_auc.append(roc_auc_score(y_val.cpu().data.numpy(), valOutputs.cpu().data.numpy(), sample_weight=w_val))\n",
    "            val_cal.append((valOutputs.squeeze().mul(w_val).sum() / y_val.mul(w_val).sum()).item())\n",
    "        torch.cuda.empty_cache()\n",
    "        sys.stdout.write(\"\\r\" + pattern%('='*(int(i*l/num_batches))+'>') + \" \" +\\\n",
    "                         \"e: %3d/%3d, b: %3d/%3d, lr: %.5f, loss=%.3f, val_loss=%.3f, auc=%.3f, val_cal=%.3f\"%\n",
    "                          (t+1, epochs, i+1, num_batches, lr,\n",
    "                          train_loss/(batch_size*(i+1+t*num_batches)), mean_val_loss[-1], \n",
    "                          val_auc[-1], val_cal[-1]))\n",
    "        sys.stdout.flush()\n",
    "    end_time = time.time()\n",
    "    elapsed = end_time - start_time\n",
    "    sys.stdout.write(\"\\r\")\n",
    "    print(pattern%('='*(l-1)+'>') + \" \" +\\\n",
    "          \"e: %3d/%3d, b: %3d/%3d, lr: %.5f, loss=%.3f, val_loss=%.3f, auc=%.3f, val_cal=%.3f, %.2fs\"%\n",
    "          (t+1, epochs, i+1, num_batches, lr,\n",
    "          train_loss/(batch_size*(i+1+t*num_batches)), mean_val_loss[-1], \n",
    "          val_auc[-1], val_cal[-1], elapsed))\n",
    "    \n",
    "print('Finished Training')"
   ]
  },
  {
   "cell_type": "markdown",
   "metadata": {},
   "source": [
    "## Calculate AUC and calibration metrics\n",
    "### These predictions are done in evaluation mode. Setting the SEED and calling $eval()$ make the evaluation reproducible"
   ]
  },
  {
   "cell_type": "code",
   "execution_count": 156,
   "metadata": {},
   "outputs": [
    {
     "name": "stdout",
     "output_type": "stream",
     "text": [
      "val:\n",
      "number of observations = 120547\n",
      "\tAUC = 0.8507\n",
      "\tCalibration = 1.0459\n",
      "\tctrpm = 12.19\n",
      "test:\n",
      "number of observations = 120547\n",
      "\tAUC = 0.8524\n",
      "\tCalibration = 1.0300\n",
      "\tctrpm = 12.22\n"
     ]
    }
   ],
   "source": [
    "torch.cuda.empty_cache()\n",
    "for data in [[x_val, y_val, w_val, 'val'], [x_test, y_test, w_test, 'test']]:\n",
    "    with torch.no_grad():\n",
    "        DCNnet.eval()\n",
    "        torch.manual_seed(SEED)\n",
    "        probs = DCNnet(data[0].squeeze())\n",
    "        sample_weight = data[2].cpu().data.numpy()\n",
    "        torch.cuda.empty_cache()\n",
    "        print(data[3]+':')\n",
    "        print(\"number of observations = %d\"%(len(data[1].cpu().data.numpy())))\n",
    "        print(\"\\tAUC = %.4f\"%(roc_auc_score(data[1].cpu().data.numpy(), probs.cpu().data.numpy(), sample_weight=sample_weight)))\n",
    "        print(\"\\tCalibration = %.4f\"%(probs.flatten().dot(data[2])/data[1].dot(data[2]).item()))\n",
    "        print(\"\\tctrpm = %.2f\"%(1000*data[1].dot(data[2])/data[1].shape[0]))"
   ]
  },
  {
   "cell_type": "code",
   "execution_count": 157,
   "metadata": {},
   "outputs": [
    {
     "data": {
      "image/png": "[encoded data removed]",
      "text/plain": [
       "<Figure size 864x648 with 4 Axes>"
      ]
     },
     "metadata": {
      "needs_background": "light"
     },
     "output_type": "display_data"
    }
   ],
   "source": [
    "plt.figure(figsize=(12,9))\n",
    "plt.subplot(2,2,1)\n",
    "plt.plot(mean_val_loss, label='validation loss')\n",
    "plt.legend()\n",
    "plt.subplot(2,2,2)\n",
    "with torch.no_grad():\n",
    "    torch.manual_seed(SEED)\n",
    "    probs = DCNnet(x_test.squeeze())\n",
    "v = torch.cat([probs.cpu().reshape((probs.shape[0],1)),y_test.cpu().reshape((y_test.shape[0],1))], dim=1).data.numpy()\n",
    "v = v[np.argsort(v[:, 0])[::-1]]\n",
    "means = np.array_split(v, 20)\n",
    "means = np.array([[v[:, 0].mean(), v[:, 1].mean()] for v in means])\n",
    "max_v = np.max(means)+0.002\n",
    "plt.plot(means[:, 1], means[:,0], 'o--g', label='pp plot: p vs actual');\n",
    "plt.plot([0,max_v],[0,max_v],'r--')\n",
    "plt.xlim([0,max_v])\n",
    "plt.ylim([0,max_v])\n",
    "plt.legend()\n",
    "plt.subplot(2,2,3)\n",
    "plt.plot(val_auc, 'k-', label='auc')\n",
    "plt.legend()\n",
    "plt.subplot(2,2,4)\n",
    "plt.plot(val_cal, 'c-', label='calibration')\n",
    "plt.plot([0,len(val_cal)],[1,1], 'r--')\n",
    "plt.ylim([-0.5, 5])\n",
    "plt.legend();\n",
    "plt.tight_layout();"
   ]
  },
  {
   "cell_type": "markdown",
   "metadata": {},
   "source": [
    "## Save model and load it back for inference"
   ]
  },
  {
   "cell_type": "code",
   "execution_count": 158,
   "metadata": {},
   "outputs": [],
   "source": [
    "PATH = 'model.pth'\n",
    "torch.save(DCNnet.state_dict(), PATH)"
   ]
  },
  {
   "cell_type": "code",
   "execution_count": 159,
   "metadata": {},
   "outputs": [
    {
     "data": {
      "text/plain": [
       "fullDCN(\n",
       "  (embedding_layers): ModuleList(\n",
       "    (0): Embedding(642, 10)\n",
       "    (1): Embedding(13, 5)\n",
       "    (2): Embedding(5412, 10)\n",
       "    (3): Embedding(9629, 10)\n",
       "    (4): Embedding(58, 5)\n",
       "    (5): Embedding(4990, 10)\n",
       "    (6): Embedding(3570, 10)\n",
       "    (7): Embedding(2614, 10)\n",
       "    (8): Embedding(6, 3)\n",
       "    (9): Embedding(11, 5)\n",
       "    (10): Embedding(140, 10)\n",
       "    (11): Embedding(27, 5)\n",
       "    (12): Embedding(893, 10)\n",
       "    (13): Embedding(664, 10)\n",
       "    (14): Embedding(78, 5)\n",
       "    (15): Embedding(7, 3)\n",
       "    (16): Embedding(3, 3)\n",
       "    (17): Embedding(20, 5)\n",
       "    (18): Embedding(60, 5)\n",
       "    (19): Embedding(8, 3)\n",
       "    (20): Embedding(11, 5)\n",
       "  )\n",
       "  (fc1): Linear(in_features=149, out_features=100, bias=True)\n",
       "  (fc_bn): BatchNorm1d(100, eps=1e-05, momentum=0.1, affine=True, track_running_stats=True)\n",
       "  (fc2): Linear(in_features=100, out_features=100, bias=True)\n",
       "  (dropout): Dropout(p=0.5)\n",
       "  (linear_with_bias): Linear(in_features=149, out_features=149, bias=True)\n",
       "  (cross_layer_bn): BatchNorm1d(149, eps=1e-05, momentum=0.1, affine=True, track_running_stats=True)\n",
       "  (wide): Linear(in_features=149, out_features=500, bias=True)\n",
       "  (CombLayer): Linear(in_features=749, out_features=1, bias=True)\n",
       "  (output): Sigmoid()\n",
       ")"
      ]
     },
     "execution_count": 159,
     "metadata": {},
     "output_type": "execute_result"
    }
   ],
   "source": [
    "reload_model = fullDCN(embedding_list=embed_list, \n",
    "                       dense_size=m_dense, \n",
    "                       num_deep_layers=5, \n",
    "                       num_cross_layers=1, \n",
    "                       d_units=100, \n",
    "                       w_units=500).to(device)\n",
    "reload_model.load_state_dict(torch.load(PATH))\n",
    "reload_model.eval()"
   ]
  },
  {
   "cell_type": "code",
   "execution_count": 160,
   "metadata": {},
   "outputs": [
    {
     "name": "stdout",
     "output_type": "stream",
     "text": [
      "val:\n",
      "number of observations = 120547\n",
      "\tAUC = 0.8507\n",
      "\tCalibration = 1.0459\n",
      "\tctrpm = 12.19\n",
      "test:\n",
      "number of observations = 120547\n",
      "\tAUC = 0.8524\n",
      "\tCalibration = 1.0300\n",
      "\tctrpm = 12.22\n"
     ]
    }
   ],
   "source": [
    "torch.cuda.empty_cache()\n",
    "for data in [[x_val, y_val, w_val, 'val'], [x_test, y_test, w_test, 'test']]:\n",
    "    with torch.no_grad():\n",
    "        reload_model.eval()\n",
    "        torch.manual_seed(SEED)\n",
    "        probs = DCNnet(data[0].squeeze())\n",
    "        sample_weight = data[2].cpu().data.numpy()\n",
    "        torch.cuda.empty_cache()\n",
    "        print(data[3]+':')\n",
    "        print(\"number of observations = %d\"%(len(data[1].cpu().data.numpy())))\n",
    "        print(\"\\tAUC = %.4f\"%(roc_auc_score(data[1].cpu().data.numpy(), probs.cpu().data.numpy(), sample_weight=sample_weight)))\n",
    "        print(\"\\tCalibration = %.4f\"%(probs.flatten().dot(data[2])/data[1].dot(data[2]).item()))\n",
    "        print(\"\\tctrpm = %.2f\"%(1000*data[1].dot(data[2])/data[1].shape[0]))"
   ]
  },
  {
   "cell_type": "code",
   "execution_count": null,
   "metadata": {},
   "outputs": [],
   "source": [
    "# from tensorboardX import SummaryWriter\n",
    "\n",
    "# writer = SummaryWriter(comment='testing')\n",
    "# writer.add_graph(DCNnet, (x_val_sparse, x_val_dense), verbose=False)\n",
    "\n",
    "# torch.onnx._export(DCNnet, (x_val_sparse, x_val_dense), 'dcnet.onnx', verbose=False)"
   ]
  },
  {
   "cell_type": "code",
   "execution_count": null,
   "metadata": {},
   "outputs": [],
   "source": [
    "# # !pip install git+https://github.com/szagoruyko/pytorchviz\n",
    "# from torchviz import make_dot"
   ]
  },
  {
   "cell_type": "code",
   "execution_count": null,
   "metadata": {},
   "outputs": [],
   "source": [
    "# torchviz.make_dot_from_trace(torch.jit.trace(DCNnet, args=(x_val_sparse, x_val_dense, )))"
   ]
  },
  {
   "cell_type": "code",
   "execution_count": null,
   "metadata": {},
   "outputs": [],
   "source": []
  }
 ],
 "metadata": {
  "kernelspec": {
   "display_name": "Python 3",
   "language": "python",
   "name": "python3"
  },
  "language_info": {
   "codemirror_mode": {
    "name": "ipython",
    "version": 3
   },
   "file_extension": ".py",
   "mimetype": "text/x-python",
   "name": "python",
   "nbconvert_exporter": "python",
   "pygments_lexer": "ipython3",
   "version": "3.6.5"
  }
 },
 "nbformat": 4,
 "nbformat_minor": 2
}
